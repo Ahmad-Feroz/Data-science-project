{
 "cells": [
  {
   "cell_type": "markdown",
   "id": "5bc52db6",
   "metadata": {},
   "source": [
    "\n",
    "                        Prepared by: Ahmad Feroz & Mohammad Omar\n",
    "\n",
    "-----------------------------------------------------------------------------------------------------------------------------"
   ]
  },
  {
   "cell_type": "markdown",
   "id": "3fee5da8",
   "metadata": {},
   "source": [
    "# Business Understanding"
   ]
  },
  {
   "cell_type": "markdown",
   "id": "b3fba672",
   "metadata": {},
   "source": [
    "For this project we are going use amazon.com books datasets that are taken from kaggle.com"
   ]
  },
  {
   "cell_type": "markdown",
   "id": "f03792a8",
   "metadata": {},
   "source": [
    "Amazon.com, Inc. is an American multinational technology company which focuses on e-commerce, cloud computing, digital streaming, and artificial intelligence. It has been referred to as \"one of the most influential economic and cultural forces in the world\", and is one of the world's most valuable brands. And also, its one of the largest online book stores in most of countries."
   ]
  },
  {
   "cell_type": "markdown",
   "id": "13e13084",
   "metadata": {},
   "source": [
    "In this project we are going to build a model to classify machine learing books from other books based on their title or name."
   ]
  },
  {
   "cell_type": "markdown",
   "id": "7906b91c",
   "metadata": {},
   "source": [
    "And also we use python and its different libraries"
   ]
  },
  {
   "cell_type": "markdown",
   "id": "c4dcf727",
   "metadata": {},
   "source": [
    "# Data Understanding and Preparation"
   ]
  },
  {
   "cell_type": "markdown",
   "id": "944bfead",
   "metadata": {},
   "source": [
    "As we mention earlier for this project we are using datasets that are taken form kaggle.com and one of them is as follows:"
   ]
  },
  {
   "cell_type": "code",
   "execution_count": 1,
   "id": "1d216556",
   "metadata": {},
   "outputs": [],
   "source": [
    "# importing necessary libraries\n",
    "%matplotlib inline\n",
    "import pandas as pd\n",
    "import numpy as np\n",
    "import matplotlib.pyplot as plt\n",
    "import seaborn as sns"
   ]
  },
  {
   "cell_type": "markdown",
   "id": "5e17f589",
   "metadata": {},
   "source": [
    "## Importing the dataset"
   ]
  },
  {
   "cell_type": "markdown",
   "id": "aa2791b1",
   "metadata": {},
   "source": [
    "we are using a pandas' method called read_csv for importing or reading a dataset"
   ]
  },
  {
   "cell_type": "code",
   "execution_count": 2,
   "id": "b28d941d",
   "metadata": {},
   "outputs": [],
   "source": [
    "#the dataset\n",
    "df1 = pd.read_csv(r\"Downloads\\CSVFiles\\ML_books.csv\")\n"
   ]
  },
  {
   "cell_type": "code",
   "execution_count": 3,
   "id": "08be10de",
   "metadata": {},
   "outputs": [
    {
     "data": {
      "text/html": [
       "<div>\n",
       "<style scoped>\n",
       "    .dataframe tbody tr th:only-of-type {\n",
       "        vertical-align: middle;\n",
       "    }\n",
       "\n",
       "    .dataframe tbody tr th {\n",
       "        vertical-align: top;\n",
       "    }\n",
       "\n",
       "    .dataframe thead th {\n",
       "        text-align: right;\n",
       "    }\n",
       "</style>\n",
       "<table border=\"1\" class=\"dataframe\">\n",
       "  <thead>\n",
       "    <tr style=\"text-align: right;\">\n",
       "      <th></th>\n",
       "      <th>Name</th>\n",
       "      <th>Autor</th>\n",
       "      <th>Review</th>\n",
       "      <th>Review qntd</th>\n",
       "      <th>Format</th>\n",
       "      <th>Price</th>\n",
       "    </tr>\n",
       "  </thead>\n",
       "  <tbody>\n",
       "    <tr>\n",
       "      <th>0</th>\n",
       "      <td>Hands-On Machine Learning with Scikit-Learn, K...</td>\n",
       "      <td>Aurélien Géron</td>\n",
       "      <td>4.8 out of 5 stars</td>\n",
       "      <td>1,808</td>\n",
       "      <td>Paperback</td>\n",
       "      <td>$17.50</td>\n",
       "    </tr>\n",
       "    <tr>\n",
       "      <th>1</th>\n",
       "      <td>Machine Learning Design Patterns: Solutions to...</td>\n",
       "      <td>Valliappa Lakshmanan</td>\n",
       "      <td>4.6 out of 5 stars</td>\n",
       "      <td>66</td>\n",
       "      <td>Paperback</td>\n",
       "      <td>$35.49</td>\n",
       "    </tr>\n",
       "    <tr>\n",
       "      <th>2</th>\n",
       "      <td>AI and Machine Learning for Coders: A Programm...</td>\n",
       "      <td>Laurence Moroney</td>\n",
       "      <td>4.8 out of 5 stars</td>\n",
       "      <td>29</td>\n",
       "      <td>Paperback</td>\n",
       "      <td>$45.59</td>\n",
       "    </tr>\n",
       "    <tr>\n",
       "      <th>3</th>\n",
       "      <td>Machine Learning Engineering</td>\n",
       "      <td>Andriy Burkov</td>\n",
       "      <td>4.7 out of 5 stars</td>\n",
       "      <td>113</td>\n",
       "      <td>Paperback</td>\n",
       "      <td>$35.49</td>\n",
       "    </tr>\n",
       "    <tr>\n",
       "      <th>4</th>\n",
       "      <td>Machine Learning: 4 Books in 1: Basic Concepts...</td>\n",
       "      <td>Ethem Mining</td>\n",
       "      <td>4.3 out of 5 stars</td>\n",
       "      <td>106</td>\n",
       "      <td>Kindle</td>\n",
       "      <td>$0.00</td>\n",
       "    </tr>\n",
       "  </tbody>\n",
       "</table>\n",
       "</div>"
      ],
      "text/plain": [
       "                                                Name                 Autor  \\\n",
       "0  Hands-On Machine Learning with Scikit-Learn, K...        Aurélien Géron   \n",
       "1  Machine Learning Design Patterns: Solutions to...  Valliappa Lakshmanan   \n",
       "2  AI and Machine Learning for Coders: A Programm...      Laurence Moroney   \n",
       "3                       Machine Learning Engineering         Andriy Burkov   \n",
       "4  Machine Learning: 4 Books in 1: Basic Concepts...          Ethem Mining   \n",
       "\n",
       "               Review Review qntd     Format   Price  \n",
       "0  4.8 out of 5 stars       1,808  Paperback  $17.50  \n",
       "1  4.6 out of 5 stars          66  Paperback  $35.49  \n",
       "2  4.8 out of 5 stars          29  Paperback  $45.59  \n",
       "3  4.7 out of 5 stars         113  Paperback  $35.49  \n",
       "4  4.3 out of 5 stars         106     Kindle   $0.00  "
      ]
     },
     "execution_count": 3,
     "metadata": {},
     "output_type": "execute_result"
    }
   ],
   "source": [
    "# sample of data\n",
    "df1.head()"
   ]
  },
  {
   "cell_type": "markdown",
   "id": "ba8b092d",
   "metadata": {},
   "source": [
    "## Data information"
   ]
  },
  {
   "cell_type": "code",
   "execution_count": 4,
   "id": "b3cf0016",
   "metadata": {},
   "outputs": [
    {
     "name": "stdout",
     "output_type": "stream",
     "text": [
      "<class 'pandas.core.frame.DataFrame'>\n",
      "RangeIndex: 285 entries, 0 to 284\n",
      "Data columns (total 6 columns):\n",
      " #   Column       Non-Null Count  Dtype \n",
      "---  ------       --------------  ----- \n",
      " 0   Name         285 non-null    object\n",
      " 1   Autor        119 non-null    object\n",
      " 2   Review       201 non-null    object\n",
      " 3   Review qntd  192 non-null    object\n",
      " 4   Format       256 non-null    object\n",
      " 5   Price        261 non-null    object\n",
      "dtypes: object(6)\n",
      "memory usage: 13.5+ KB\n"
     ]
    }
   ],
   "source": [
    "df1.info()"
   ]
  },
  {
   "cell_type": "markdown",
   "id": "86bf6ebe",
   "metadata": {},
   "source": [
    "## Data Description"
   ]
  },
  {
   "cell_type": "code",
   "execution_count": 5,
   "id": "40690396",
   "metadata": {},
   "outputs": [
    {
     "data": {
      "text/html": [
       "<div>\n",
       "<style scoped>\n",
       "    .dataframe tbody tr th:only-of-type {\n",
       "        vertical-align: middle;\n",
       "    }\n",
       "\n",
       "    .dataframe tbody tr th {\n",
       "        vertical-align: top;\n",
       "    }\n",
       "\n",
       "    .dataframe thead th {\n",
       "        text-align: right;\n",
       "    }\n",
       "</style>\n",
       "<table border=\"1\" class=\"dataframe\">\n",
       "  <thead>\n",
       "    <tr style=\"text-align: right;\">\n",
       "      <th></th>\n",
       "      <th>Name</th>\n",
       "      <th>Autor</th>\n",
       "      <th>Review</th>\n",
       "      <th>Review qntd</th>\n",
       "      <th>Format</th>\n",
       "      <th>Price</th>\n",
       "    </tr>\n",
       "  </thead>\n",
       "  <tbody>\n",
       "    <tr>\n",
       "      <th>count</th>\n",
       "      <td>285</td>\n",
       "      <td>119</td>\n",
       "      <td>201</td>\n",
       "      <td>192</td>\n",
       "      <td>256</td>\n",
       "      <td>261</td>\n",
       "    </tr>\n",
       "    <tr>\n",
       "      <th>unique</th>\n",
       "      <td>274</td>\n",
       "      <td>99</td>\n",
       "      <td>21</td>\n",
       "      <td>99</td>\n",
       "      <td>8</td>\n",
       "      <td>162</td>\n",
       "    </tr>\n",
       "    <tr>\n",
       "      <th>top</th>\n",
       "      <td>Funny Data Sciene Gift - AI Data Scientist Mac...</td>\n",
       "      <td>From</td>\n",
       "      <td>4.5 out of 5 stars</td>\n",
       "      <td>2</td>\n",
       "      <td>Paperback</td>\n",
       "      <td>$0.00</td>\n",
       "    </tr>\n",
       "    <tr>\n",
       "      <th>freq</th>\n",
       "      <td>3</td>\n",
       "      <td>6</td>\n",
       "      <td>31</td>\n",
       "      <td>11</td>\n",
       "      <td>112</td>\n",
       "      <td>52</td>\n",
       "    </tr>\n",
       "  </tbody>\n",
       "</table>\n",
       "</div>"
      ],
      "text/plain": [
       "                                                     Name Autor  \\\n",
       "count                                                 285   119   \n",
       "unique                                                274    99   \n",
       "top     Funny Data Sciene Gift - AI Data Scientist Mac...  From   \n",
       "freq                                                    3     6   \n",
       "\n",
       "                    Review Review qntd     Format  Price  \n",
       "count                  201         192        256    261  \n",
       "unique                  21          99          8    162  \n",
       "top     4.5 out of 5 stars           2  Paperback  $0.00  \n",
       "freq                    31          11        112     52  "
      ]
     },
     "execution_count": 5,
     "metadata": {},
     "output_type": "execute_result"
    }
   ],
   "source": [
    "# decription of data\n",
    "df1.describe()"
   ]
  },
  {
   "cell_type": "code",
   "execution_count": 6,
   "id": "096dfbc4",
   "metadata": {},
   "outputs": [
    {
     "data": {
      "text/plain": [
       "(285, 6)"
      ]
     },
     "execution_count": 6,
     "metadata": {},
     "output_type": "execute_result"
    }
   ],
   "source": [
    "# we are going to see how many rows and columns do we have\n",
    "df1.shape"
   ]
  },
  {
   "cell_type": "code",
   "execution_count": 7,
   "id": "59bbd5cc",
   "metadata": {},
   "outputs": [],
   "source": [
    "# 285 rows, and 6 columns"
   ]
  },
  {
   "cell_type": "markdown",
   "id": "99663d50",
   "metadata": {},
   "source": [
    "For every task that we want to perform later we need to ensure our self from quality of our data. Means we are going to check for short comming data and dirty data like: missing values, duplicated values and etc."
   ]
  },
  {
   "cell_type": "markdown",
   "id": "69895632",
   "metadata": {},
   "source": [
    "## Missing Data And Data type conversion"
   ]
  },
  {
   "cell_type": "markdown",
   "id": "c707c0b6",
   "metadata": {},
   "source": [
    "Missing Data are those data or values that are missed in a dataset or we can simply say there places are empty in dataset,\n",
    "Missing data is a common problem before starting any task of data science, if they are not handle, will cause the result of analysis or final outcome to be incorrect.\n",
    "and missing values in pandas dataframe represented by (NaN)."
   ]
  },
  {
   "cell_type": "code",
   "execution_count": 8,
   "id": "667663ba",
   "metadata": {},
   "outputs": [
    {
     "data": {
      "text/html": [
       "<div>\n",
       "<style scoped>\n",
       "    .dataframe tbody tr th:only-of-type {\n",
       "        vertical-align: middle;\n",
       "    }\n",
       "\n",
       "    .dataframe tbody tr th {\n",
       "        vertical-align: top;\n",
       "    }\n",
       "\n",
       "    .dataframe thead th {\n",
       "        text-align: right;\n",
       "    }\n",
       "</style>\n",
       "<table border=\"1\" class=\"dataframe\">\n",
       "  <thead>\n",
       "    <tr style=\"text-align: right;\">\n",
       "      <th></th>\n",
       "      <th>Name</th>\n",
       "      <th>Autor</th>\n",
       "      <th>Review</th>\n",
       "      <th>Review qntd</th>\n",
       "      <th>Format</th>\n",
       "      <th>Price</th>\n",
       "    </tr>\n",
       "  </thead>\n",
       "  <tbody>\n",
       "    <tr>\n",
       "      <th>0</th>\n",
       "      <td>False</td>\n",
       "      <td>False</td>\n",
       "      <td>False</td>\n",
       "      <td>False</td>\n",
       "      <td>False</td>\n",
       "      <td>False</td>\n",
       "    </tr>\n",
       "    <tr>\n",
       "      <th>1</th>\n",
       "      <td>False</td>\n",
       "      <td>False</td>\n",
       "      <td>False</td>\n",
       "      <td>False</td>\n",
       "      <td>False</td>\n",
       "      <td>False</td>\n",
       "    </tr>\n",
       "    <tr>\n",
       "      <th>2</th>\n",
       "      <td>False</td>\n",
       "      <td>False</td>\n",
       "      <td>False</td>\n",
       "      <td>False</td>\n",
       "      <td>False</td>\n",
       "      <td>False</td>\n",
       "    </tr>\n",
       "    <tr>\n",
       "      <th>3</th>\n",
       "      <td>False</td>\n",
       "      <td>False</td>\n",
       "      <td>False</td>\n",
       "      <td>False</td>\n",
       "      <td>False</td>\n",
       "      <td>False</td>\n",
       "    </tr>\n",
       "    <tr>\n",
       "      <th>4</th>\n",
       "      <td>False</td>\n",
       "      <td>False</td>\n",
       "      <td>False</td>\n",
       "      <td>False</td>\n",
       "      <td>False</td>\n",
       "      <td>False</td>\n",
       "    </tr>\n",
       "    <tr>\n",
       "      <th>...</th>\n",
       "      <td>...</td>\n",
       "      <td>...</td>\n",
       "      <td>...</td>\n",
       "      <td>...</td>\n",
       "      <td>...</td>\n",
       "      <td>...</td>\n",
       "    </tr>\n",
       "    <tr>\n",
       "      <th>280</th>\n",
       "      <td>False</td>\n",
       "      <td>False</td>\n",
       "      <td>False</td>\n",
       "      <td>False</td>\n",
       "      <td>False</td>\n",
       "      <td>False</td>\n",
       "    </tr>\n",
       "    <tr>\n",
       "      <th>281</th>\n",
       "      <td>False</td>\n",
       "      <td>True</td>\n",
       "      <td>True</td>\n",
       "      <td>True</td>\n",
       "      <td>False</td>\n",
       "      <td>False</td>\n",
       "    </tr>\n",
       "    <tr>\n",
       "      <th>282</th>\n",
       "      <td>False</td>\n",
       "      <td>True</td>\n",
       "      <td>False</td>\n",
       "      <td>False</td>\n",
       "      <td>False</td>\n",
       "      <td>False</td>\n",
       "    </tr>\n",
       "    <tr>\n",
       "      <th>283</th>\n",
       "      <td>False</td>\n",
       "      <td>False</td>\n",
       "      <td>False</td>\n",
       "      <td>False</td>\n",
       "      <td>False</td>\n",
       "      <td>False</td>\n",
       "    </tr>\n",
       "    <tr>\n",
       "      <th>284</th>\n",
       "      <td>False</td>\n",
       "      <td>True</td>\n",
       "      <td>True</td>\n",
       "      <td>True</td>\n",
       "      <td>True</td>\n",
       "      <td>True</td>\n",
       "    </tr>\n",
       "  </tbody>\n",
       "</table>\n",
       "<p>285 rows × 6 columns</p>\n",
       "</div>"
      ],
      "text/plain": [
       "      Name  Autor  Review  Review qntd  Format  Price\n",
       "0    False  False   False        False   False  False\n",
       "1    False  False   False        False   False  False\n",
       "2    False  False   False        False   False  False\n",
       "3    False  False   False        False   False  False\n",
       "4    False  False   False        False   False  False\n",
       "..     ...    ...     ...          ...     ...    ...\n",
       "280  False  False   False        False   False  False\n",
       "281  False   True    True         True   False  False\n",
       "282  False   True   False        False   False  False\n",
       "283  False  False   False        False   False  False\n",
       "284  False   True    True         True    True   True\n",
       "\n",
       "[285 rows x 6 columns]"
      ]
     },
     "execution_count": 8,
     "metadata": {},
     "output_type": "execute_result"
    }
   ],
   "source": [
    "# checking for missing values\n",
    "df1.isnull()\n",
    "# it will show all values that missed with true otherwise false"
   ]
  },
  {
   "cell_type": "code",
   "execution_count": 9,
   "id": "26f8e4bc",
   "metadata": {},
   "outputs": [
    {
     "data": {
      "text/plain": [
       "Name             0\n",
       "Autor          166\n",
       "Review          84\n",
       "Review qntd     93\n",
       "Format          29\n",
       "Price           24\n",
       "dtype: int64"
      ]
     },
     "execution_count": 9,
     "metadata": {},
     "output_type": "execute_result"
    }
   ],
   "source": [
    "# number of missing values in each feature or column\n",
    "df1.isnull().sum()"
   ]
  },
  {
   "cell_type": "code",
   "execution_count": 10,
   "id": "01ab1ddd",
   "metadata": {},
   "outputs": [
    {
     "data": {
      "text/plain": [
       "396"
      ]
     },
     "execution_count": 10,
     "metadata": {},
     "output_type": "execute_result"
    }
   ],
   "source": [
    "# total number of missing values in our dataset\n",
    "df1.isnull().sum().sum()"
   ]
  },
  {
   "cell_type": "markdown",
   "id": "09a29c60",
   "metadata": {},
   "source": [
    "For handling missing values we have two methods 1) Deleting missing values 2) Imputing missing values."
   ]
  },
  {
   "cell_type": "markdown",
   "id": "c887e97d",
   "metadata": {},
   "source": [
    "1) Deleting missing values: Simply delete the rows or columns that have missing values."
   ]
  },
  {
   "cell_type": "markdown",
   "id": "a3fff6c4",
   "metadata": {},
   "source": [
    "2) Imputing missing values: There are different ways of replacing the missing values.  Replacing with Arbitrary values, with mean, with Mod, with Median , with previous value and with next value.\n",
    "\n",
    "Note: mean, mod and median only use for numeric values."
   ]
  },
  {
   "cell_type": "code",
   "execution_count": 11,
   "id": "bf26c6e4",
   "metadata": {},
   "outputs": [],
   "source": [
    "# imputing values for (Autor) attribute using forwardfill technique\n",
    "# forwardfill simply means replacing the missing value with its previous value on that column\n",
    "\n",
    "df1[\"Autor\"] = df1[\"Autor\"].fillna(method=\"ffill\")"
   ]
  },
  {
   "cell_type": "code",
   "execution_count": 12,
   "id": "aa39251d",
   "metadata": {},
   "outputs": [
    {
     "data": {
      "text/plain": [
       "0"
      ]
     },
     "execution_count": 12,
     "metadata": {},
     "output_type": "execute_result"
    }
   ],
   "source": [
    "# checking for missing value on autor column\n",
    "df1[\"Autor\"].isnull().sum()"
   ]
  },
  {
   "cell_type": "code",
   "execution_count": 13,
   "id": "6d2c86d8",
   "metadata": {},
   "outputs": [
    {
     "name": "stdout",
     "output_type": "stream",
     "text": [
      "<class 'pandas.core.frame.DataFrame'>\n",
      "RangeIndex: 285 entries, 0 to 284\n",
      "Data columns (total 6 columns):\n",
      " #   Column       Non-Null Count  Dtype \n",
      "---  ------       --------------  ----- \n",
      " 0   Name         285 non-null    object\n",
      " 1   Author       285 non-null    object\n",
      " 2   Review       201 non-null    object\n",
      " 3   Review qntd  192 non-null    object\n",
      " 4   Format       256 non-null    object\n",
      " 5   Price        261 non-null    object\n",
      "dtypes: object(6)\n",
      "memory usage: 13.5+ KB\n"
     ]
    }
   ],
   "source": [
    "# as we can see the (Autor) column name has spelling mistake we are going to correct it\n",
    "df1.rename(columns={\"Autor\": \"Author\"}, inplace=True)\n",
    "df1.info()"
   ]
  },
  {
   "cell_type": "code",
   "execution_count": 14,
   "id": "d7219250",
   "metadata": {},
   "outputs": [],
   "source": [
    "# And also we want to to change (Review) to (User Rating) and (Review qntd) to (Reviews) for better undrestanding.\n",
    "df1.rename(columns={\"Review\": \"User Rating\"}, inplace=True)\n",
    "df1.rename(columns={\"Review qntd\": \"Reviews\"}, inplace=True)"
   ]
  },
  {
   "cell_type": "code",
   "execution_count": 15,
   "id": "a5a57782",
   "metadata": {},
   "outputs": [
    {
     "name": "stdout",
     "output_type": "stream",
     "text": [
      "<class 'pandas.core.frame.DataFrame'>\n",
      "RangeIndex: 285 entries, 0 to 284\n",
      "Data columns (total 6 columns):\n",
      " #   Column       Non-Null Count  Dtype \n",
      "---  ------       --------------  ----- \n",
      " 0   Name         285 non-null    object\n",
      " 1   Author       285 non-null    object\n",
      " 2   User Rating  201 non-null    object\n",
      " 3   Reviews      192 non-null    object\n",
      " 4   Format       256 non-null    object\n",
      " 5   Price        261 non-null    object\n",
      "dtypes: object(6)\n",
      "memory usage: 13.5+ KB\n"
     ]
    }
   ],
   "source": [
    "df1.info()"
   ]
  },
  {
   "cell_type": "code",
   "execution_count": 16,
   "id": "d84872af",
   "metadata": {},
   "outputs": [
    {
     "data": {
      "text/html": [
       "<div>\n",
       "<style scoped>\n",
       "    .dataframe tbody tr th:only-of-type {\n",
       "        vertical-align: middle;\n",
       "    }\n",
       "\n",
       "    .dataframe tbody tr th {\n",
       "        vertical-align: top;\n",
       "    }\n",
       "\n",
       "    .dataframe thead th {\n",
       "        text-align: right;\n",
       "    }\n",
       "</style>\n",
       "<table border=\"1\" class=\"dataframe\">\n",
       "  <thead>\n",
       "    <tr style=\"text-align: right;\">\n",
       "      <th></th>\n",
       "      <th>Name</th>\n",
       "      <th>Author</th>\n",
       "      <th>User Rating</th>\n",
       "      <th>Reviews</th>\n",
       "      <th>Format</th>\n",
       "      <th>Price</th>\n",
       "    </tr>\n",
       "  </thead>\n",
       "  <tbody>\n",
       "    <tr>\n",
       "      <th>0</th>\n",
       "      <td>Hands-On Machine Learning with Scikit-Learn, K...</td>\n",
       "      <td>Aurélien Géron</td>\n",
       "      <td>4.8 out of 5 stars</td>\n",
       "      <td>1,808</td>\n",
       "      <td>Paperback</td>\n",
       "      <td>$17.50</td>\n",
       "    </tr>\n",
       "    <tr>\n",
       "      <th>1</th>\n",
       "      <td>Machine Learning Design Patterns: Solutions to...</td>\n",
       "      <td>Valliappa Lakshmanan</td>\n",
       "      <td>4.6 out of 5 stars</td>\n",
       "      <td>66</td>\n",
       "      <td>Paperback</td>\n",
       "      <td>$35.49</td>\n",
       "    </tr>\n",
       "    <tr>\n",
       "      <th>2</th>\n",
       "      <td>AI and Machine Learning for Coders: A Programm...</td>\n",
       "      <td>Laurence Moroney</td>\n",
       "      <td>4.8 out of 5 stars</td>\n",
       "      <td>29</td>\n",
       "      <td>Paperback</td>\n",
       "      <td>$45.59</td>\n",
       "    </tr>\n",
       "    <tr>\n",
       "      <th>3</th>\n",
       "      <td>Machine Learning Engineering</td>\n",
       "      <td>Andriy Burkov</td>\n",
       "      <td>4.7 out of 5 stars</td>\n",
       "      <td>113</td>\n",
       "      <td>Paperback</td>\n",
       "      <td>$35.49</td>\n",
       "    </tr>\n",
       "    <tr>\n",
       "      <th>4</th>\n",
       "      <td>Machine Learning: 4 Books in 1: Basic Concepts...</td>\n",
       "      <td>Ethem Mining</td>\n",
       "      <td>4.3 out of 5 stars</td>\n",
       "      <td>106</td>\n",
       "      <td>Kindle</td>\n",
       "      <td>$0.00</td>\n",
       "    </tr>\n",
       "  </tbody>\n",
       "</table>\n",
       "</div>"
      ],
      "text/plain": [
       "                                                Name                Author  \\\n",
       "0  Hands-On Machine Learning with Scikit-Learn, K...        Aurélien Géron   \n",
       "1  Machine Learning Design Patterns: Solutions to...  Valliappa Lakshmanan   \n",
       "2  AI and Machine Learning for Coders: A Programm...      Laurence Moroney   \n",
       "3                       Machine Learning Engineering         Andriy Burkov   \n",
       "4  Machine Learning: 4 Books in 1: Basic Concepts...          Ethem Mining   \n",
       "\n",
       "          User Rating Reviews     Format   Price  \n",
       "0  4.8 out of 5 stars   1,808  Paperback  $17.50  \n",
       "1  4.6 out of 5 stars      66  Paperback  $35.49  \n",
       "2  4.8 out of 5 stars      29  Paperback  $45.59  \n",
       "3  4.7 out of 5 stars     113  Paperback  $35.49  \n",
       "4  4.3 out of 5 stars     106     Kindle   $0.00  "
      ]
     },
     "execution_count": 16,
     "metadata": {},
     "output_type": "execute_result"
    }
   ],
   "source": [
    "df1.head()"
   ]
  },
  {
   "cell_type": "code",
   "execution_count": 17,
   "id": "e3b7ffd5",
   "metadata": {},
   "outputs": [],
   "source": [
    "# for (User Rating) column we want to have just the rating part as we can see the data in this column is like\n",
    "# (4.8 out of 5 stars) we want just the 4.8 not the whole sentence.\n",
    "\n",
    "# for doing this we write a function\n",
    "def formatUserRating(a):\n",
    "    if type(a) == type(\"\"):\n",
    "        result = a.split(\" \")\n",
    "        return result[0]\n",
    "    else:\n",
    "        return np.nan\n",
    "\n",
    "# apply function on that column\n",
    "df1[\"User Rating\"] = df1[\"User Rating\"].apply(formatUserRating)"
   ]
  },
  {
   "cell_type": "code",
   "execution_count": 18,
   "id": "0caba550",
   "metadata": {},
   "outputs": [
    {
     "data": {
      "text/html": [
       "<div>\n",
       "<style scoped>\n",
       "    .dataframe tbody tr th:only-of-type {\n",
       "        vertical-align: middle;\n",
       "    }\n",
       "\n",
       "    .dataframe tbody tr th {\n",
       "        vertical-align: top;\n",
       "    }\n",
       "\n",
       "    .dataframe thead th {\n",
       "        text-align: right;\n",
       "    }\n",
       "</style>\n",
       "<table border=\"1\" class=\"dataframe\">\n",
       "  <thead>\n",
       "    <tr style=\"text-align: right;\">\n",
       "      <th></th>\n",
       "      <th>Name</th>\n",
       "      <th>Author</th>\n",
       "      <th>User Rating</th>\n",
       "      <th>Reviews</th>\n",
       "      <th>Format</th>\n",
       "      <th>Price</th>\n",
       "    </tr>\n",
       "  </thead>\n",
       "  <tbody>\n",
       "    <tr>\n",
       "      <th>0</th>\n",
       "      <td>Hands-On Machine Learning with Scikit-Learn, K...</td>\n",
       "      <td>Aurélien Géron</td>\n",
       "      <td>4.8</td>\n",
       "      <td>1,808</td>\n",
       "      <td>Paperback</td>\n",
       "      <td>$17.50</td>\n",
       "    </tr>\n",
       "    <tr>\n",
       "      <th>1</th>\n",
       "      <td>Machine Learning Design Patterns: Solutions to...</td>\n",
       "      <td>Valliappa Lakshmanan</td>\n",
       "      <td>4.6</td>\n",
       "      <td>66</td>\n",
       "      <td>Paperback</td>\n",
       "      <td>$35.49</td>\n",
       "    </tr>\n",
       "    <tr>\n",
       "      <th>2</th>\n",
       "      <td>AI and Machine Learning for Coders: A Programm...</td>\n",
       "      <td>Laurence Moroney</td>\n",
       "      <td>4.8</td>\n",
       "      <td>29</td>\n",
       "      <td>Paperback</td>\n",
       "      <td>$45.59</td>\n",
       "    </tr>\n",
       "    <tr>\n",
       "      <th>3</th>\n",
       "      <td>Machine Learning Engineering</td>\n",
       "      <td>Andriy Burkov</td>\n",
       "      <td>4.7</td>\n",
       "      <td>113</td>\n",
       "      <td>Paperback</td>\n",
       "      <td>$35.49</td>\n",
       "    </tr>\n",
       "    <tr>\n",
       "      <th>4</th>\n",
       "      <td>Machine Learning: 4 Books in 1: Basic Concepts...</td>\n",
       "      <td>Ethem Mining</td>\n",
       "      <td>4.3</td>\n",
       "      <td>106</td>\n",
       "      <td>Kindle</td>\n",
       "      <td>$0.00</td>\n",
       "    </tr>\n",
       "  </tbody>\n",
       "</table>\n",
       "</div>"
      ],
      "text/plain": [
       "                                                Name                Author  \\\n",
       "0  Hands-On Machine Learning with Scikit-Learn, K...        Aurélien Géron   \n",
       "1  Machine Learning Design Patterns: Solutions to...  Valliappa Lakshmanan   \n",
       "2  AI and Machine Learning for Coders: A Programm...      Laurence Moroney   \n",
       "3                       Machine Learning Engineering         Andriy Burkov   \n",
       "4  Machine Learning: 4 Books in 1: Basic Concepts...          Ethem Mining   \n",
       "\n",
       "  User Rating Reviews     Format   Price  \n",
       "0         4.8   1,808  Paperback  $17.50  \n",
       "1         4.6      66  Paperback  $35.49  \n",
       "2         4.8      29  Paperback  $45.59  \n",
       "3         4.7     113  Paperback  $35.49  \n",
       "4         4.3     106     Kindle   $0.00  "
      ]
     },
     "execution_count": 18,
     "metadata": {},
     "output_type": "execute_result"
    }
   ],
   "source": [
    "df1.head()"
   ]
  },
  {
   "cell_type": "code",
   "execution_count": 19,
   "id": "ea2ab61c",
   "metadata": {},
   "outputs": [],
   "source": [
    "# and we also convert the (User Rating) feature data type to numeric\n",
    "# and then we can impute the missing values in this feature with mean of this feature\n",
    "df1[\"User Rating\"] = pd.to_numeric(df1[\"User Rating\"])"
   ]
  },
  {
   "cell_type": "code",
   "execution_count": 20,
   "id": "f2207b08",
   "metadata": {},
   "outputs": [
    {
     "name": "stdout",
     "output_type": "stream",
     "text": [
      "<class 'pandas.core.frame.DataFrame'>\n",
      "RangeIndex: 285 entries, 0 to 284\n",
      "Data columns (total 6 columns):\n",
      " #   Column       Non-Null Count  Dtype  \n",
      "---  ------       --------------  -----  \n",
      " 0   Name         285 non-null    object \n",
      " 1   Author       285 non-null    object \n",
      " 2   User Rating  201 non-null    float64\n",
      " 3   Reviews      192 non-null    object \n",
      " 4   Format       256 non-null    object \n",
      " 5   Price        261 non-null    object \n",
      "dtypes: float64(1), object(5)\n",
      "memory usage: 13.5+ KB\n"
     ]
    }
   ],
   "source": [
    "df1.info()"
   ]
  },
  {
   "cell_type": "code",
   "execution_count": 21,
   "id": "dbd7629d",
   "metadata": {},
   "outputs": [
    {
     "data": {
      "text/plain": [
       "84"
      ]
     },
     "execution_count": 21,
     "metadata": {},
     "output_type": "execute_result"
    }
   ],
   "source": [
    "df1[\"User Rating\"].isnull().sum()"
   ]
  },
  {
   "cell_type": "code",
   "execution_count": 22,
   "id": "e17d762f",
   "metadata": {},
   "outputs": [],
   "source": [
    "# handling missing values of (User Rating) feature with mean\n",
    "df1[\"User Rating\"] = df1[\"User Rating\"].fillna(np.mean(df1[\"User Rating\"]))"
   ]
  },
  {
   "cell_type": "code",
   "execution_count": 23,
   "id": "34bbca6c",
   "metadata": {},
   "outputs": [
    {
     "data": {
      "text/plain": [
       "0"
      ]
     },
     "execution_count": 23,
     "metadata": {},
     "output_type": "execute_result"
    }
   ],
   "source": [
    "# checking for missing values in (User Rating)\n",
    "df1[\"User Rating\"].isnull().sum()"
   ]
  },
  {
   "cell_type": "code",
   "execution_count": 24,
   "id": "43e7445f",
   "metadata": {},
   "outputs": [
    {
     "data": {
      "text/html": [
       "<div>\n",
       "<style scoped>\n",
       "    .dataframe tbody tr th:only-of-type {\n",
       "        vertical-align: middle;\n",
       "    }\n",
       "\n",
       "    .dataframe tbody tr th {\n",
       "        vertical-align: top;\n",
       "    }\n",
       "\n",
       "    .dataframe thead th {\n",
       "        text-align: right;\n",
       "    }\n",
       "</style>\n",
       "<table border=\"1\" class=\"dataframe\">\n",
       "  <thead>\n",
       "    <tr style=\"text-align: right;\">\n",
       "      <th></th>\n",
       "      <th>Name</th>\n",
       "      <th>Author</th>\n",
       "      <th>User Rating</th>\n",
       "      <th>Reviews</th>\n",
       "      <th>Format</th>\n",
       "      <th>Price</th>\n",
       "    </tr>\n",
       "  </thead>\n",
       "  <tbody>\n",
       "    <tr>\n",
       "      <th>0</th>\n",
       "      <td>Hands-On Machine Learning with Scikit-Learn, K...</td>\n",
       "      <td>Aurélien Géron</td>\n",
       "      <td>4.8</td>\n",
       "      <td>1,808</td>\n",
       "      <td>Paperback</td>\n",
       "      <td>$17.50</td>\n",
       "    </tr>\n",
       "    <tr>\n",
       "      <th>1</th>\n",
       "      <td>Machine Learning Design Patterns: Solutions to...</td>\n",
       "      <td>Valliappa Lakshmanan</td>\n",
       "      <td>4.6</td>\n",
       "      <td>66</td>\n",
       "      <td>Paperback</td>\n",
       "      <td>$35.49</td>\n",
       "    </tr>\n",
       "    <tr>\n",
       "      <th>2</th>\n",
       "      <td>AI and Machine Learning for Coders: A Programm...</td>\n",
       "      <td>Laurence Moroney</td>\n",
       "      <td>4.8</td>\n",
       "      <td>29</td>\n",
       "      <td>Paperback</td>\n",
       "      <td>$45.59</td>\n",
       "    </tr>\n",
       "    <tr>\n",
       "      <th>3</th>\n",
       "      <td>Machine Learning Engineering</td>\n",
       "      <td>Andriy Burkov</td>\n",
       "      <td>4.7</td>\n",
       "      <td>113</td>\n",
       "      <td>Paperback</td>\n",
       "      <td>$35.49</td>\n",
       "    </tr>\n",
       "    <tr>\n",
       "      <th>4</th>\n",
       "      <td>Machine Learning: 4 Books in 1: Basic Concepts...</td>\n",
       "      <td>Ethem Mining</td>\n",
       "      <td>4.3</td>\n",
       "      <td>106</td>\n",
       "      <td>Kindle</td>\n",
       "      <td>$0.00</td>\n",
       "    </tr>\n",
       "  </tbody>\n",
       "</table>\n",
       "</div>"
      ],
      "text/plain": [
       "                                                Name                Author  \\\n",
       "0  Hands-On Machine Learning with Scikit-Learn, K...        Aurélien Géron   \n",
       "1  Machine Learning Design Patterns: Solutions to...  Valliappa Lakshmanan   \n",
       "2  AI and Machine Learning for Coders: A Programm...      Laurence Moroney   \n",
       "3                       Machine Learning Engineering         Andriy Burkov   \n",
       "4  Machine Learning: 4 Books in 1: Basic Concepts...          Ethem Mining   \n",
       "\n",
       "   User Rating Reviews     Format   Price  \n",
       "0          4.8   1,808  Paperback  $17.50  \n",
       "1          4.6      66  Paperback  $35.49  \n",
       "2          4.8      29  Paperback  $45.59  \n",
       "3          4.7     113  Paperback  $35.49  \n",
       "4          4.3     106     Kindle   $0.00  "
      ]
     },
     "execution_count": 24,
     "metadata": {},
     "output_type": "execute_result"
    }
   ],
   "source": [
    "df1.head()"
   ]
  },
  {
   "cell_type": "code",
   "execution_count": 25,
   "id": "91a29c52",
   "metadata": {},
   "outputs": [],
   "source": [
    "# chnage (Reviews) column data type to numeric\n",
    "# to convert (Reviews) column data type to numeric first we need to remove comma from its values ---> like (1,808)\n",
    "# otherwise it we give errors\n",
    "\n",
    "df1[\"Reviews\"] = df1[\"Reviews\"].replace(\",\", \"\", regex=True)"
   ]
  },
  {
   "cell_type": "code",
   "execution_count": 26,
   "id": "cc90c333",
   "metadata": {},
   "outputs": [
    {
     "data": {
      "text/plain": [
       "0    1808\n",
       "1      66\n",
       "2      29\n",
       "3     113\n",
       "4     106\n",
       "Name: Reviews, dtype: object"
      ]
     },
     "execution_count": 26,
     "metadata": {},
     "output_type": "execute_result"
    }
   ],
   "source": [
    "# check for remov comma\n",
    "df1[\"Reviews\"].head()"
   ]
  },
  {
   "cell_type": "code",
   "execution_count": 27,
   "id": "52d5c15c",
   "metadata": {},
   "outputs": [
    {
     "name": "stdout",
     "output_type": "stream",
     "text": [
      "<class 'pandas.core.frame.DataFrame'>\n",
      "RangeIndex: 285 entries, 0 to 284\n",
      "Data columns (total 6 columns):\n",
      " #   Column       Non-Null Count  Dtype  \n",
      "---  ------       --------------  -----  \n",
      " 0   Name         285 non-null    object \n",
      " 1   Author       285 non-null    object \n",
      " 2   User Rating  285 non-null    float64\n",
      " 3   Reviews      192 non-null    float64\n",
      " 4   Format       256 non-null    object \n",
      " 5   Price        261 non-null    object \n",
      "dtypes: float64(2), object(4)\n",
      "memory usage: 13.5+ KB\n"
     ]
    }
   ],
   "source": [
    "# and now we can change its data type to numeric\n",
    "df1[\"Reviews\"] = pd.to_numeric(df1[\"Reviews\"])\n",
    "df1.info()"
   ]
  },
  {
   "cell_type": "code",
   "execution_count": 28,
   "id": "04a4aced",
   "metadata": {},
   "outputs": [
    {
     "data": {
      "text/plain": [
       "93"
      ]
     },
     "execution_count": 28,
     "metadata": {},
     "output_type": "execute_result"
    }
   ],
   "source": [
    "# missing values of (Reviews) feature\n",
    "df1[\"Reviews\"].isnull().sum()"
   ]
  },
  {
   "cell_type": "code",
   "execution_count": 29,
   "id": "146d6e6d",
   "metadata": {},
   "outputs": [
    {
     "data": {
      "text/plain": [
       "0"
      ]
     },
     "execution_count": 29,
     "metadata": {},
     "output_type": "execute_result"
    }
   ],
   "source": [
    "# handling missing values of (Reviews) feature with mean\n",
    "df1[\"Reviews\"] = df1[\"Reviews\"].fillna(np.mean(df1[\"Reviews\"]))\n",
    "df1[\"Reviews\"].isnull().sum()"
   ]
  },
  {
   "cell_type": "code",
   "execution_count": 30,
   "id": "fe496d32",
   "metadata": {},
   "outputs": [
    {
     "data": {
      "text/plain": [
       "29"
      ]
     },
     "execution_count": 30,
     "metadata": {},
     "output_type": "execute_result"
    }
   ],
   "source": [
    "# missing values of (Format) feature\n",
    "df1[\"Format\"].isnull().sum()"
   ]
  },
  {
   "cell_type": "code",
   "execution_count": 33,
   "id": "0a3aa797",
   "metadata": {},
   "outputs": [
    {
     "data": {
      "text/plain": [
       "0"
      ]
     },
     "execution_count": 33,
     "metadata": {},
     "output_type": "execute_result"
    }
   ],
   "source": [
    "# handling missing values of (Format) feature with backwardfill technique (next Value)\n",
    "df1[\"Format\"] = df1[\"Format\"].fillna(method=\"bfill\")\n",
    "df1[\"Format\"].isnull().sum()"
   ]
  },
  {
   "cell_type": "code",
   "execution_count": 34,
   "id": "8fbd0354",
   "metadata": {},
   "outputs": [
    {
     "name": "stdout",
     "output_type": "stream",
     "text": [
      "<class 'pandas.core.frame.DataFrame'>\n",
      "RangeIndex: 285 entries, 0 to 284\n",
      "Data columns (total 6 columns):\n",
      " #   Column       Non-Null Count  Dtype  \n",
      "---  ------       --------------  -----  \n",
      " 0   Name         285 non-null    object \n",
      " 1   Author       285 non-null    object \n",
      " 2   User Rating  285 non-null    float64\n",
      " 3   Reviews      285 non-null    float64\n",
      " 4   Format       285 non-null    object \n",
      " 5   Price        261 non-null    object \n",
      "dtypes: float64(2), object(4)\n",
      "memory usage: 13.5+ KB\n"
     ]
    }
   ],
   "source": [
    "df1.info()"
   ]
  },
  {
   "cell_type": "code",
   "execution_count": 35,
   "id": "8d57511c",
   "metadata": {},
   "outputs": [
    {
     "data": {
      "text/plain": [
       "0    $17.50\n",
       "1    $35.49\n",
       "2    $45.59\n",
       "3    $35.49\n",
       "4     $0.00\n",
       "Name: Price, dtype: object"
      ]
     },
     "execution_count": 35,
     "metadata": {},
     "output_type": "execute_result"
    }
   ],
   "source": [
    "# the (Price) attribute must also be numeric\n",
    "df1[\"Price\"].head()"
   ]
  },
  {
   "cell_type": "code",
   "execution_count": 36,
   "id": "f8987b06",
   "metadata": {},
   "outputs": [],
   "source": [
    "# for converting or numeric first we need to remove the dollor sign\n",
    "def formatPrice(a):\n",
    "    if type(a) == type(\"\"):\n",
    "        result = a.split(\"$\")\n",
    "        return result[1]\n",
    "    else:\n",
    "        return np.nan"
   ]
  },
  {
   "cell_type": "code",
   "execution_count": 37,
   "id": "28ae4132",
   "metadata": {},
   "outputs": [
    {
     "data": {
      "text/plain": [
       "0    17.50\n",
       "1    35.49\n",
       "2    45.59\n",
       "3    35.49\n",
       "4     0.00\n",
       "Name: Price, dtype: object"
      ]
     },
     "execution_count": 37,
     "metadata": {},
     "output_type": "execute_result"
    }
   ],
   "source": [
    "df1[\"Price\"] = df1[\"Price\"].apply(formatPrice)\n",
    "df1[\"Price\"].head()"
   ]
  },
  {
   "cell_type": "code",
   "execution_count": 38,
   "id": "86e87496",
   "metadata": {},
   "outputs": [],
   "source": [
    "# now we can convert to numeric\n",
    "df1[\"Price\"] = pd.to_numeric(df1[\"Price\"])"
   ]
  },
  {
   "cell_type": "code",
   "execution_count": 39,
   "id": "1ee72c4e",
   "metadata": {},
   "outputs": [
    {
     "name": "stdout",
     "output_type": "stream",
     "text": [
      "<class 'pandas.core.frame.DataFrame'>\n",
      "RangeIndex: 285 entries, 0 to 284\n",
      "Data columns (total 6 columns):\n",
      " #   Column       Non-Null Count  Dtype  \n",
      "---  ------       --------------  -----  \n",
      " 0   Name         285 non-null    object \n",
      " 1   Author       285 non-null    object \n",
      " 2   User Rating  285 non-null    float64\n",
      " 3   Reviews      285 non-null    float64\n",
      " 4   Format       285 non-null    object \n",
      " 5   Price        261 non-null    float64\n",
      "dtypes: float64(3), object(3)\n",
      "memory usage: 13.5+ KB\n"
     ]
    }
   ],
   "source": [
    "df1.info()"
   ]
  },
  {
   "cell_type": "code",
   "execution_count": 40,
   "id": "87f31b46",
   "metadata": {},
   "outputs": [
    {
     "data": {
      "text/plain": [
       "24"
      ]
     },
     "execution_count": 40,
     "metadata": {},
     "output_type": "execute_result"
    }
   ],
   "source": [
    "# (Price) feature missing values\n",
    "df1[\"Price\"].isnull().sum()"
   ]
  },
  {
   "cell_type": "code",
   "execution_count": 41,
   "id": "543923fd",
   "metadata": {},
   "outputs": [
    {
     "data": {
      "text/plain": [
       "0"
      ]
     },
     "execution_count": 41,
     "metadata": {},
     "output_type": "execute_result"
    }
   ],
   "source": [
    "# imputing values for (User Rating) attribute useing mean of that attribute\n",
    "\n",
    "df1[\"Price\"] = df1[\"Price\"].fillna(np.mean(df1[\"Price\"]))\n",
    "df1[\"Price\"].isnull().sum()"
   ]
  },
  {
   "cell_type": "code",
   "execution_count": 42,
   "id": "dcfcf010",
   "metadata": {},
   "outputs": [
    {
     "data": {
      "text/plain": [
       "Name           0\n",
       "Author         0\n",
       "User Rating    0\n",
       "Reviews        0\n",
       "Format         0\n",
       "Price          0\n",
       "dtype: int64"
      ]
     },
     "execution_count": 42,
     "metadata": {},
     "output_type": "execute_result"
    }
   ],
   "source": [
    "# checking for missing values for all data set after handling\n",
    "df1.isnull().sum()"
   ]
  },
  {
   "cell_type": "code",
   "execution_count": 43,
   "id": "ead1a105",
   "metadata": {},
   "outputs": [
    {
     "name": "stdout",
     "output_type": "stream",
     "text": [
      "<class 'pandas.core.frame.DataFrame'>\n",
      "RangeIndex: 285 entries, 0 to 284\n",
      "Data columns (total 6 columns):\n",
      " #   Column       Non-Null Count  Dtype  \n",
      "---  ------       --------------  -----  \n",
      " 0   Name         285 non-null    object \n",
      " 1   Author       285 non-null    object \n",
      " 2   User Rating  285 non-null    float64\n",
      " 3   Reviews      285 non-null    float64\n",
      " 4   Format       285 non-null    object \n",
      " 5   Price        285 non-null    float64\n",
      "dtypes: float64(3), object(3)\n",
      "memory usage: 13.5+ KB\n"
     ]
    }
   ],
   "source": [
    "# checking for datatypes\n",
    "df1.info()"
   ]
  },
  {
   "cell_type": "markdown",
   "id": "3958c6fe",
   "metadata": {},
   "source": [
    "## Duplicate Data"
   ]
  },
  {
   "cell_type": "markdown",
   "id": "edbb376f",
   "metadata": {},
   "source": [
    "\"Duplication\" just means that you have repeated data in your dataset. This could be due to things like data entry errors or data collection methods"
   ]
  },
  {
   "cell_type": "code",
   "execution_count": 44,
   "id": "d4e008be",
   "metadata": {},
   "outputs": [
    {
     "data": {
      "text/plain": [
       "6"
      ]
     },
     "execution_count": 44,
     "metadata": {},
     "output_type": "execute_result"
    }
   ],
   "source": [
    "# checking for duplicates\n",
    "df1.duplicated().sum()"
   ]
  },
  {
   "cell_type": "code",
   "execution_count": 45,
   "id": "88c6b1a4",
   "metadata": {},
   "outputs": [
    {
     "data": {
      "text/html": [
       "<div>\n",
       "<style scoped>\n",
       "    .dataframe tbody tr th:only-of-type {\n",
       "        vertical-align: middle;\n",
       "    }\n",
       "\n",
       "    .dataframe tbody tr th {\n",
       "        vertical-align: top;\n",
       "    }\n",
       "\n",
       "    .dataframe thead th {\n",
       "        text-align: right;\n",
       "    }\n",
       "</style>\n",
       "<table border=\"1\" class=\"dataframe\">\n",
       "  <thead>\n",
       "    <tr style=\"text-align: right;\">\n",
       "      <th></th>\n",
       "      <th>Name</th>\n",
       "      <th>Author</th>\n",
       "      <th>User Rating</th>\n",
       "      <th>Reviews</th>\n",
       "      <th>Format</th>\n",
       "      <th>Price</th>\n",
       "    </tr>\n",
       "  </thead>\n",
       "  <tbody>\n",
       "    <tr>\n",
       "      <th>68</th>\n",
       "      <td>Machine Learning: New and Collected Stories</td>\n",
       "      <td>,</td>\n",
       "      <td>4.50000</td>\n",
       "      <td>167.000000</td>\n",
       "      <td>Audible Audiobook</td>\n",
       "      <td>0.00</td>\n",
       "    </tr>\n",
       "    <tr>\n",
       "      <th>89</th>\n",
       "      <td>Funny Data Sciene Gift - AI Data Scientist Mac...</td>\n",
       "      <td>Matt Taddy</td>\n",
       "      <td>4.39602</td>\n",
       "      <td>143.677083</td>\n",
       "      <td>Paperback</td>\n",
       "      <td>17.99</td>\n",
       "    </tr>\n",
       "    <tr>\n",
       "      <th>117</th>\n",
       "      <td>Data Sciene Gift - Data Scientist Machine Lear...</td>\n",
       "      <td>From</td>\n",
       "      <td>4.39602</td>\n",
       "      <td>143.677083</td>\n",
       "      <td>Kindle</td>\n",
       "      <td>17.99</td>\n",
       "    </tr>\n",
       "    <tr>\n",
       "      <th>199</th>\n",
       "      <td>Machine Learning</td>\n",
       "      <td>From</td>\n",
       "      <td>5.00000</td>\n",
       "      <td>1.000000</td>\n",
       "      <td>Prime Video</td>\n",
       "      <td>1.99</td>\n",
       "    </tr>\n",
       "    <tr>\n",
       "      <th>219</th>\n",
       "      <td>Artificial Intelligence: A Modern Approach (Pe...</td>\n",
       "      <td>Stuart Russell</td>\n",
       "      <td>4.60000</td>\n",
       "      <td>174.000000</td>\n",
       "      <td>Hardcover</td>\n",
       "      <td>159.99</td>\n",
       "    </tr>\n",
       "    <tr>\n",
       "      <th>220</th>\n",
       "      <td>Keras to Kubernetes: The Journey of a Machine ...</td>\n",
       "      <td>Dattaraj Rao</td>\n",
       "      <td>3.80000</td>\n",
       "      <td>6.000000</td>\n",
       "      <td>Paperback</td>\n",
       "      <td>23.47</td>\n",
       "    </tr>\n",
       "  </tbody>\n",
       "</table>\n",
       "</div>"
      ],
      "text/plain": [
       "                                                  Name          Author  \\\n",
       "68         Machine Learning: New and Collected Stories               ,   \n",
       "89   Funny Data Sciene Gift - AI Data Scientist Mac...      Matt Taddy   \n",
       "117  Data Sciene Gift - Data Scientist Machine Lear...            From   \n",
       "199                                   Machine Learning            From   \n",
       "219  Artificial Intelligence: A Modern Approach (Pe...  Stuart Russell   \n",
       "220  Keras to Kubernetes: The Journey of a Machine ...    Dattaraj Rao   \n",
       "\n",
       "     User Rating     Reviews             Format   Price  \n",
       "68       4.50000  167.000000  Audible Audiobook    0.00  \n",
       "89       4.39602  143.677083          Paperback   17.99  \n",
       "117      4.39602  143.677083             Kindle   17.99  \n",
       "199      5.00000    1.000000        Prime Video    1.99  \n",
       "219      4.60000  174.000000          Hardcover  159.99  \n",
       "220      3.80000    6.000000          Paperback   23.47  "
      ]
     },
     "execution_count": 45,
     "metadata": {},
     "output_type": "execute_result"
    }
   ],
   "source": [
    "# we can see there is 6 books that are duplicated\n",
    "# we are going to remove those duplicated rows\n",
    "\n",
    "# First we want see those duplicated rows\n",
    "df1.loc[df1.duplicated(), :]"
   ]
  },
  {
   "cell_type": "code",
   "execution_count": 46,
   "id": "cce40068",
   "metadata": {},
   "outputs": [],
   "source": [
    "# these are rows that are duplicated we are going ro remove them\n",
    "df1 = df1.drop_duplicates()"
   ]
  },
  {
   "cell_type": "code",
   "execution_count": 47,
   "id": "59f67e16",
   "metadata": {},
   "outputs": [
    {
     "data": {
      "text/plain": [
       "0"
      ]
     },
     "execution_count": 47,
     "metadata": {},
     "output_type": "execute_result"
    }
   ],
   "source": [
    "df1.duplicated().sum()"
   ]
  },
  {
   "cell_type": "code",
   "execution_count": 48,
   "id": "0649cc59",
   "metadata": {},
   "outputs": [],
   "source": [
    "# all duplicated rows remove successfully."
   ]
  },
  {
   "cell_type": "markdown",
   "id": "49c3860a",
   "metadata": {},
   "source": [
    "## Outliers "
   ]
  },
  {
   "cell_type": "markdown",
   "id": "36bf50b5",
   "metadata": {},
   "source": [
    "In simple terms, an outlier is an extremely high or extremely low data point relative to the nearest data point and the rest of the neighboring co-existing values in a data graph or dataset."
   ]
  },
  {
   "cell_type": "code",
   "execution_count": 49,
   "id": "79393bc0",
   "metadata": {},
   "outputs": [],
   "source": [
    "# we are checking outliers for numeric attributes"
   ]
  },
  {
   "cell_type": "code",
   "execution_count": 50,
   "id": "d765ab25",
   "metadata": {},
   "outputs": [],
   "source": [
    "# if we want to see the outliers by graphs we can use seaborn library"
   ]
  },
  {
   "cell_type": "code",
   "execution_count": 51,
   "id": "c83ed686",
   "metadata": {},
   "outputs": [
    {
     "data": {
      "text/plain": [
       "<AxesSubplot:xlabel='User Rating'>"
      ]
     },
     "execution_count": 51,
     "metadata": {},
     "output_type": "execute_result"
    },
    {
     "data": {
      "image/png": "[encoded data removed]",
      "text/plain": [
       "<Figure size 432x288 with 1 Axes>"
      ]
     },
     "metadata": {
      "needs_background": "light"
     },
     "output_type": "display_data"
    }
   ],
   "source": [
    "# visualizing outliers for (User Rating) feature\n",
    "sns.boxplot(x=df1[\"User Rating\"])"
   ]
  },
  {
   "cell_type": "code",
   "execution_count": 52,
   "id": "4a3ab8f5",
   "metadata": {},
   "outputs": [
    {
     "data": {
      "text/plain": [
       "<AxesSubplot:xlabel='Reviews'>"
      ]
     },
     "execution_count": 52,
     "metadata": {},
     "output_type": "execute_result"
    },
    {
     "data": {
      "image/png": "[encoded data removed]",
      "text/plain": [
       "<Figure size 432x288 with 1 Axes>"
      ]
     },
     "metadata": {
      "needs_background": "light"
     },
     "output_type": "display_data"
    }
   ],
   "source": [
    "# visualizing outliers for (Reviews) feature\n",
    "sns.boxplot(x=df1[\"Reviews\"])"
   ]
  },
  {
   "cell_type": "code",
   "execution_count": 53,
   "id": "95ecdf5a",
   "metadata": {},
   "outputs": [
    {
     "data": {
      "text/plain": [
       "<AxesSubplot:xlabel='Price'>"
      ]
     },
     "execution_count": 53,
     "metadata": {},
     "output_type": "execute_result"
    },
    {
     "data": {
      "image/png": "[encoded data removed]",
      "text/plain": [
       "<Figure size 432x288 with 1 Axes>"
      ]
     },
     "metadata": {
      "needs_background": "light"
     },
     "output_type": "display_data"
    }
   ],
   "source": [
    "# visualizing outliers for (Price) feature\n",
    "sns.boxplot(x=df1[\"Price\"])"
   ]
  },
  {
   "cell_type": "code",
   "execution_count": 54,
   "id": "085a8e0f",
   "metadata": {},
   "outputs": [],
   "source": [
    "# as we can see there is outliers in our dataset\n",
    "# for removing does outliers we are useing IQR\n",
    "\n",
    "# function (outliers) returns a list of index of outliers\n",
    "def outliers(df, ft):\n",
    "    Q1 = np.percentile(df[ft], 25, interpolation = 'midpoint')\n",
    "    Q3 = np.percentile(df[ft], 75, interpolation = 'midpoint')\n",
    "    IQR = Q3 - Q1\n",
    "    \n",
    "    lower_bound = Q1 - 1.5 * IQR\n",
    "    upper_bound = Q3 + 1.5 * IQR\n",
    "    \n",
    "    ls = df.index[ (df[ft] < lower_bound) | (df[ft] > upper_bound) ]\n",
    "    \n",
    "    return ls"
   ]
  },
  {
   "cell_type": "code",
   "execution_count": 55,
   "id": "8d57599e",
   "metadata": {},
   "outputs": [],
   "source": [
    "# creating an empty list to store the output indices from multiple columns\n",
    "\n",
    "index_list = []\n",
    "for feature in [\"User Rating\", \"Reviews\", \"Price\"]:\n",
    "    index_list.extend(outliers(df1, feature))"
   ]
  },
  {
   "cell_type": "code",
   "execution_count": 56,
   "id": "46e5700c",
   "metadata": {},
   "outputs": [
    {
     "name": "stdout",
     "output_type": "stream",
     "text": [
      "[9, 19, 25, 47, 80, 131, 163, 191, 212, 213, 218, 228, 229, 230, 233, 235, 236, 253, 254, 262, 270, 280, 0, 5, 7, 8, 10, 18, 28, 36, 96, 104, 240, 246, 276, 282, 22, 45, 79, 107, 126, 131, 134, 135, 146, 198, 201, 212, 217, 248, 260]\n"
     ]
    }
   ],
   "source": [
    "print(index_list)"
   ]
  },
  {
   "cell_type": "code",
   "execution_count": 57,
   "id": "162839d4",
   "metadata": {},
   "outputs": [],
   "source": [
    "# define a function called \"remove\" which returns a cleaned dataframe without ouliers\n",
    "\n",
    "def remove(df, ls):\n",
    "    ls = sorted(set(ls))\n",
    "    df = df.drop(ls)\n",
    "    return df"
   ]
  },
  {
   "cell_type": "code",
   "execution_count": 58,
   "id": "ffec381c",
   "metadata": {},
   "outputs": [],
   "source": [
    "df_cleaned = remove(df1, index_list)"
   ]
  },
  {
   "cell_type": "code",
   "execution_count": 59,
   "id": "8e124553",
   "metadata": {},
   "outputs": [
    {
     "data": {
      "text/plain": [
       "(279, 6)"
      ]
     },
     "execution_count": 59,
     "metadata": {},
     "output_type": "execute_result"
    }
   ],
   "source": [
    "# dataframe with outliers\n",
    "df1.shape"
   ]
  },
  {
   "cell_type": "code",
   "execution_count": 60,
   "id": "79bdd0a2",
   "metadata": {},
   "outputs": [
    {
     "data": {
      "text/plain": [
       "(230, 6)"
      ]
     },
     "execution_count": 60,
     "metadata": {},
     "output_type": "execute_result"
    }
   ],
   "source": [
    "# after removing outliers\n",
    "\n",
    "df_cleaned.shape"
   ]
  },
  {
   "cell_type": "markdown",
   "id": "db1a2fe1",
   "metadata": {},
   "source": [
    "## Normalization"
   ]
  },
  {
   "cell_type": "markdown",
   "id": "4c9c5050",
   "metadata": {},
   "source": [
    "Data normalization is the method of organizing data to appear similar across all records and fields. Performing so always results in getting higher quality data."
   ]
  },
  {
   "cell_type": "code",
   "execution_count": 61,
   "id": "0f150bb8",
   "metadata": {},
   "outputs": [
    {
     "data": {
      "text/plain": [
       "0      0.276553\n",
       "1      0.009948\n",
       "2      0.004285\n",
       "3      0.017141\n",
       "4      0.016070\n",
       "         ...   \n",
       "280    0.002296\n",
       "281    0.021836\n",
       "282    0.191001\n",
       "283    0.000459\n",
       "284    0.021836\n",
       "Name: Reviews, Length: 279, dtype: float64"
      ]
     },
     "execution_count": 61,
     "metadata": {},
     "output_type": "execute_result"
    }
   ],
   "source": [
    "# normalizing (Reviews) feature -- MinMaxScaler method --\n",
    "normalizeReviews = df1[\"Reviews\"]\n",
    "minF = normalizeReviews.min(axis=0)\n",
    "maxF = normalizeReviews.max(axis=0)\n",
    "\n",
    "normalizeReviews = normalizeReviews.apply(lambda v: (v-minF) / (maxF-minF))\n",
    "normalizeReviews"
   ]
  },
  {
   "cell_type": "code",
   "execution_count": 62,
   "id": "821033d3",
   "metadata": {},
   "outputs": [
    {
     "data": {
      "text/plain": [
       "1.0"
      ]
     },
     "execution_count": 62,
     "metadata": {},
     "output_type": "execute_result"
    }
   ],
   "source": [
    "# max value\n",
    "normalizeReviews.max()"
   ]
  },
  {
   "cell_type": "code",
   "execution_count": 63,
   "id": "75c83187",
   "metadata": {},
   "outputs": [
    {
     "data": {
      "text/plain": [
       "0.0"
      ]
     },
     "execution_count": 63,
     "metadata": {},
     "output_type": "execute_result"
    }
   ],
   "source": [
    "# min value\n",
    "normalizeReviews.min()"
   ]
  },
  {
   "cell_type": "markdown",
   "id": "7c4108ab",
   "metadata": {},
   "source": [
    "## Standardization "
   ]
  },
  {
   "cell_type": "markdown",
   "id": "e0afe1c4",
   "metadata": {},
   "source": [
    "Standardization entails scaling data to fit a standard normal distribution. A standard normal distribution is defined as a distribution with a mean of 0 and a standard deviation of 1."
   ]
  },
  {
   "cell_type": "code",
   "execution_count": 64,
   "id": "7ea8814f",
   "metadata": {},
   "outputs": [
    {
     "data": {
      "text/plain": [
       "0    3.852376\n",
       "1   -0.181767\n",
       "2   -0.267452\n",
       "3   -0.072924\n",
       "4   -0.089135\n",
       "Name: Reviews, dtype: float64"
      ]
     },
     "execution_count": 64,
     "metadata": {},
     "output_type": "execute_result"
    }
   ],
   "source": [
    "# standradizing (Reviews) attribute (z-score)\n",
    "standardizeReviews = df1[\"Reviews\"]\n",
    "mean = np.mean(standardizeReviews)\n",
    "SD = np.std(standardizeReviews)\n",
    "\n",
    "standardizeReviews = standardizeReviews.apply(lambda x: (x-mean) / SD)\n",
    "standardizeReviews.head()"
   ]
  },
  {
   "cell_type": "code",
   "execution_count": 65,
   "id": "9efe777c",
   "metadata": {},
   "outputs": [],
   "source": [
    "# standardization using scipy module"
   ]
  },
  {
   "cell_type": "code",
   "execution_count": 66,
   "id": "81c014d2",
   "metadata": {},
   "outputs": [
    {
     "name": "stdout",
     "output_type": "stream",
     "text": [
      "0    3.852376\n",
      "1   -0.181767\n",
      "2   -0.267452\n",
      "3   -0.072924\n",
      "4   -0.089135\n",
      "Name: Reviews, dtype: float64\n"
     ]
    }
   ],
   "source": [
    "import scipy.stats as stats\n",
    "values = df1[\"Reviews\"]\n",
    "zscores = stats.zscore(values)\n",
    "print(zscores.head())"
   ]
  },
  {
   "cell_type": "markdown",
   "id": "91f6ea91",
   "metadata": {},
   "source": [
    "## Cosine Similarity"
   ]
  },
  {
   "cell_type": "markdown",
   "id": "15fc28d6",
   "metadata": {},
   "source": [
    "Cosine Similarity is a measurement that quantifies the similarity between two or more vectors. The cosine similarity is the cosine of the angle between vectors. The vectors are typically non-zero and are within an inner product space.\n",
    "\n",
    "The cosine similarity is described mathematically as the division between the dot product of vectors and the product of the euclidean norms or magnitude of each vector."
   ]
  },
  {
   "cell_type": "markdown",
   "id": "73408dce",
   "metadata": {},
   "source": [
    " - Applications\n",
    " \n",
    " 1.  Document Similarity\n",
    " \n",
    " 2. Pose Matching"
   ]
  },
  {
   "cell_type": "code",
   "execution_count": 67,
   "id": "b78ccc58",
   "metadata": {},
   "outputs": [],
   "source": [
    "# In Here we use it for finding the documnet similarity"
   ]
  },
  {
   "cell_type": "code",
   "execution_count": 68,
   "id": "02d11540",
   "metadata": {},
   "outputs": [],
   "source": [
    "from sklearn.feature_extraction.text import CountVectorizer\n",
    "\n",
    "def cosineSimilarity(x, y):\n",
    " \n",
    "    # Ensure length of x and y are the same\n",
    "    if len(x) != len(y) :\n",
    "        return None\n",
    "    \n",
    "    # Compute the dot product between x and y\n",
    "    dotProduct = np.dot(x, y)\n",
    "    \n",
    "    # Compute the magnitudes of x and y\n",
    "    magnitude_x = np.sqrt(np.sum(x**2))\n",
    "    magnitude_y = np.sqrt(np.sum(y**2))\n",
    "    \n",
    "    consine_similarity = dotProduct / (magnitude_x * magnitude_y)\n",
    "    \n",
    "    return consine_similarity"
   ]
  },
  {
   "cell_type": "code",
   "execution_count": 69,
   "id": "01c5170c",
   "metadata": {},
   "outputs": [
    {
     "name": "stdout",
     "output_type": "stream",
     "text": [
      "['Hands-On Machine Learning with Scikit-Learn, Keras, and TensorFlow: Concepts, Tools, and Techniques to Build Intelligent Systems', 'Machine Learning Design Patterns: Solutions to Common Challenges in Data Preparation, Model Building, and MLOps']\n"
     ]
    }
   ],
   "source": [
    "# cosine similarity between two first row\n",
    "twoBookName = list((df1[\"Name\"][0], df1[\"Name\"][1]))\n",
    "print(twoBookName)"
   ]
  },
  {
   "cell_type": "code",
   "execution_count": 70,
   "id": "41af6079",
   "metadata": {},
   "outputs": [
    {
     "name": "stdout",
     "output_type": "stream",
     "text": [
      "[[2 1 0 0 0 1 0 0 1 0 1 1 1 1 1 0 0 1 0 0 1 0 1 1 1 1 1 1]\n",
      " [1 0 1 1 1 0 1 1 0 1 0 0 0 1 1 1 1 0 1 1 0 1 0 0 0 1 0 0]]\n"
     ]
    }
   ],
   "source": [
    "# Create a matrix to represent the twoBookName\n",
    "victorize_list = CountVectorizer().fit_transform(twoBookName).toarray()\n",
    "print(victorize_list)\n",
    "   "
   ]
  },
  {
   "cell_type": "code",
   "execution_count": 71,
   "id": "5b9e3e42",
   "metadata": {},
   "outputs": [],
   "source": [
    "cos_sim_2BookName = cosineSimilarity(victorize_list[0], victorize_list[1])\n"
   ]
  },
  {
   "cell_type": "code",
   "execution_count": 72,
   "id": "42770ce6",
   "metadata": {},
   "outputs": [
    {
     "name": "stdout",
     "output_type": "stream",
     "text": [
      "Cosine Similarity between: \n",
      "Book Name 1 and Book Name 2:  0.28867513459481287\n"
     ]
    }
   ],
   "source": [
    "print('Cosine Similarity between: ')\n",
    "print('Book Name 1 and Book Name 2: ', cos_sim_2BookName)"
   ]
  },
  {
   "cell_type": "markdown",
   "id": "7ad4a3a2",
   "metadata": {},
   "source": [
    "## Euclidean distance"
   ]
  },
  {
   "cell_type": "markdown",
   "id": "64c1ece1",
   "metadata": {},
   "source": [
    "Euclidean distance calculates the distance between two real-valued vectors. You are most likely to use Euclidean distance when calculating the distance between two rows of data that have numerical values, such a floating point or integer values."
   ]
  },
  {
   "cell_type": "code",
   "execution_count": 73,
   "id": "442a7bff",
   "metadata": {},
   "outputs": [],
   "source": [
    "def euclideanDistance(point1, point2):\n",
    "    \n",
    "    euclidean_distance = np.sqrt(np.sum(np.square(point1 - point2)))\n",
    "    \n",
    "    return euclidean_distance"
   ]
  },
  {
   "cell_type": "code",
   "execution_count": 74,
   "id": "52642772",
   "metadata": {},
   "outputs": [
    {
     "name": "stdout",
     "output_type": "stream",
     "text": [
      "Euclidean Distance Between:\n",
      "Book 1 and Book 2:  1742.0000114810562\n"
     ]
    }
   ],
   "source": [
    "# euclidean distance between numneric value of the row 1 and 2 of the dataset\n",
    "# (User Rating, Reviews)\n",
    "point1 = np.array((df1[\"User Rating\"][0], df1[\"Reviews\"][0]))\n",
    "point2 = np.array((df1[\"User Rating\"][1], df1[\"Reviews\"][1]))\n",
    "\n",
    "\n",
    "euclidean_dis_1_2 = euclideanDistance(point1, point2)\n",
    "print(\"Euclidean Distance Between:\")\n",
    "print(\"Book 1 and Book 2: \", euclidean_dis_1_2)"
   ]
  },
  {
   "cell_type": "markdown",
   "id": "04580b25",
   "metadata": {},
   "source": [
    "## City block or Manhattan distance"
   ]
  },
  {
   "cell_type": "markdown",
   "id": "c372f843",
   "metadata": {},
   "source": [
    "The Manhattan distance, often called Taxicab distance or City Block distance, calculates the distance between real-valued vectors. Imagine vectors that describe objects on a uniform grid such as a chessboard. Manhattan distance then refers to the distance between two vectors if they could only move right angles."
   ]
  },
  {
   "cell_type": "code",
   "execution_count": 75,
   "id": "442a9da9",
   "metadata": {},
   "outputs": [],
   "source": [
    "def cityBlock(point1, point2):\n",
    "    \n",
    "    city_block = np.sum(np.abs(point1 - point2))\n",
    "    \n",
    "    return city_block"
   ]
  },
  {
   "cell_type": "code",
   "execution_count": 76,
   "id": "93d21f23",
   "metadata": {},
   "outputs": [
    {
     "name": "stdout",
     "output_type": "stream",
     "text": [
      "City block Distance Between:\n",
      "Book 1 and Book 2:  1760.19\n"
     ]
    }
   ],
   "source": [
    "# city block distance between numneric value of the row 1 and 2 of the dataset\n",
    "# (User Rating, Reviews, Price)\n",
    "\n",
    "point1 = np.array((df1[\"User Rating\"][0], df1[\"Reviews\"][0], df1[\"Price\"][0]))\n",
    "point2 = np.array((df1[\"User Rating\"][1], df1[\"Reviews\"][1], df1[\"Price\"][1]))\n",
    "\n",
    "cityBlock_dis_1_2 = cityBlock(point1, point2)\n",
    "print(\"City block Distance Between:\")\n",
    "print(\"Book 1 and Book 2: \", cityBlock_dis_1_2)"
   ]
  },
  {
   "cell_type": "markdown",
   "id": "99aa28d6",
   "metadata": {},
   "source": [
    "## Visualization"
   ]
  },
  {
   "cell_type": "markdown",
   "id": "a7590a48",
   "metadata": {},
   "source": [
    "Data visualization is the graphical representation of information and data in a pictorial or graphical format(Example: charts, graphs, and maps). Data visualization tools provide an accessible way to see and understand trends, patterns in data, and outliers."
   ]
  },
  {
   "cell_type": "markdown",
   "id": "f793921c",
   "metadata": {},
   "source": [
    "In applied Statistics and Machine Learning, Data Visualization is one of the most important skills. Data visualization provides an important suite of tools for identifying a qualitative understanding"
   ]
  },
  {
   "cell_type": "code",
   "execution_count": 103,
   "id": "e896e6b5",
   "metadata": {},
   "outputs": [],
   "source": [
    "# in here we also visualize our data to deep undrestand our data"
   ]
  },
  {
   "cell_type": "code",
   "execution_count": 104,
   "id": "57199f65",
   "metadata": {},
   "outputs": [
    {
     "data": {
      "text/plain": [
       "<seaborn.axisgrid.PairGrid at 0x21ab4c2a850>"
      ]
     },
     "execution_count": 104,
     "metadata": {},
     "output_type": "execute_result"
    },
    {
     "data": {
      "image/png": "[encoded data removed]",
      "text/plain": [
       "<Figure size 540x540 with 12 Axes>"
      ]
     },
     "metadata": {
      "needs_background": "light"
     },
     "output_type": "display_data"
    }
   ],
   "source": [
    "sns.pairplot(df1)"
   ]
  },
  {
   "cell_type": "code",
   "execution_count": 105,
   "id": "b4fbb083",
   "metadata": {},
   "outputs": [
    {
     "data": {
      "text/plain": [
       "<AxesSubplot:xlabel='User Rating', ylabel='Reviews'>"
      ]
     },
     "execution_count": 105,
     "metadata": {},
     "output_type": "execute_result"
    },
    {
     "data": {
      "image/png": "[encoded data removed]",
      "text/plain": [
       "<Figure size 1080x576 with 1 Axes>"
      ]
     },
     "metadata": {
      "needs_background": "light"
     },
     "output_type": "display_data"
    }
   ],
   "source": [
    "plt.figure(figsize=(15,8))\n",
    "sns.boxplot(x=df1['User Rating'],y=df1['Reviews'])"
   ]
  },
  {
   "cell_type": "code",
   "execution_count": 106,
   "id": "8e4b367b",
   "metadata": {},
   "outputs": [
    {
     "data": {
      "text/plain": [
       "<Figure size 1296x1296 with 0 Axes>"
      ]
     },
     "execution_count": 106,
     "metadata": {},
     "output_type": "execute_result"
    },
    {
     "data": {
      "image/png": "[encoded data removed]",
      "text/plain": [
       "<Figure size 432x288 with 1 Axes>"
      ]
     },
     "metadata": {
      "needs_background": "light"
     },
     "output_type": "display_data"
    },
    {
     "data": {
      "text/plain": [
       "<Figure size 1296x1296 with 0 Axes>"
      ]
     },
     "metadata": {},
     "output_type": "display_data"
    }
   ],
   "source": [
    "x=df1.groupby('Author')['Reviews'].agg([sum]).sort_values(by=('sum'),ascending=False).head(10)\n",
    "q3=pd.DataFrame(x)\n",
    "q3.reset_index(inplace=True)\n",
    "plt.bar(q3['Author'],q3['sum'],color=\"blue\")\n",
    "plt.title(\"Top 5 Auhtor get Rating\")\n",
    "plt.xticks(rotation=90)\n",
    "plt.figure(figsize=(18,18))"
   ]
  },
  {
   "cell_type": "code",
   "execution_count": 107,
   "id": "156e587e",
   "metadata": {},
   "outputs": [
    {
     "data": {
      "text/plain": [
       "<Figure size 1296x1296 with 0 Axes>"
      ]
     },
     "execution_count": 107,
     "metadata": {},
     "output_type": "execute_result"
    },
    {
     "data": {
      "image/png": "[encoded data removed]",
      "text/plain": [
       "<Figure size 432x288 with 1 Axes>"
      ]
     },
     "metadata": {
      "needs_background": "light"
     },
     "output_type": "display_data"
    },
    {
     "data": {
      "text/plain": [
       "<Figure size 1296x1296 with 0 Axes>"
      ]
     },
     "metadata": {},
     "output_type": "display_data"
    }
   ],
   "source": [
    "x=df1.groupby('Name')['Price'].agg([sum]).sort_values(by=('sum'),ascending=False).head(10)\n",
    "q4=pd.DataFrame(x)\n",
    "q4.reset_index(inplace=True)\n",
    "plt.barh(q4['Name'],q4['sum'])\n",
    "plt.title(\"Top 10 Price by Name\")\n",
    "# plt.xticks(rotation=90)\n",
    "plt.figure(figsize=(18,18))"
   ]
  },
  {
   "cell_type": "markdown",
   "id": "c1c65ec6",
   "metadata": {},
   "source": [
    "## Adding New Column"
   ]
  },
  {
   "cell_type": "markdown",
   "id": "885763ed",
   "metadata": {},
   "source": [
    "since all the books in the above dataset are Machine learning books we are going to add a new column with name of (Category)\n",
    "to show the category of the books\n",
    "because we need it when we want to predict whether a book is a machine learing book or not."
   ]
  },
  {
   "cell_type": "code",
   "execution_count": 108,
   "id": "c811b5fe",
   "metadata": {},
   "outputs": [],
   "source": [
    "df1[\"Category\"] = \"Machine Learning\""
   ]
  },
  {
   "cell_type": "code",
   "execution_count": 109,
   "id": "e75b2412",
   "metadata": {},
   "outputs": [
    {
     "data": {
      "text/html": [
       "<div>\n",
       "<style scoped>\n",
       "    .dataframe tbody tr th:only-of-type {\n",
       "        vertical-align: middle;\n",
       "    }\n",
       "\n",
       "    .dataframe tbody tr th {\n",
       "        vertical-align: top;\n",
       "    }\n",
       "\n",
       "    .dataframe thead th {\n",
       "        text-align: right;\n",
       "    }\n",
       "</style>\n",
       "<table border=\"1\" class=\"dataframe\">\n",
       "  <thead>\n",
       "    <tr style=\"text-align: right;\">\n",
       "      <th></th>\n",
       "      <th>Name</th>\n",
       "      <th>Author</th>\n",
       "      <th>User Rating</th>\n",
       "      <th>Reviews</th>\n",
       "      <th>Format</th>\n",
       "      <th>Price</th>\n",
       "      <th>Category</th>\n",
       "    </tr>\n",
       "  </thead>\n",
       "  <tbody>\n",
       "    <tr>\n",
       "      <th>0</th>\n",
       "      <td>Hands-On Machine Learning with Scikit-Learn, K...</td>\n",
       "      <td>Aurélien Géron</td>\n",
       "      <td>4.8</td>\n",
       "      <td>1808.0</td>\n",
       "      <td>Paperback</td>\n",
       "      <td>17.50</td>\n",
       "      <td>Machine Learning</td>\n",
       "    </tr>\n",
       "    <tr>\n",
       "      <th>1</th>\n",
       "      <td>Machine Learning Design Patterns: Solutions to...</td>\n",
       "      <td>Valliappa Lakshmanan</td>\n",
       "      <td>4.6</td>\n",
       "      <td>66.0</td>\n",
       "      <td>Paperback</td>\n",
       "      <td>35.49</td>\n",
       "      <td>Machine Learning</td>\n",
       "    </tr>\n",
       "    <tr>\n",
       "      <th>2</th>\n",
       "      <td>AI and Machine Learning for Coders: A Programm...</td>\n",
       "      <td>Laurence Moroney</td>\n",
       "      <td>4.8</td>\n",
       "      <td>29.0</td>\n",
       "      <td>Paperback</td>\n",
       "      <td>45.59</td>\n",
       "      <td>Machine Learning</td>\n",
       "    </tr>\n",
       "    <tr>\n",
       "      <th>3</th>\n",
       "      <td>Machine Learning Engineering</td>\n",
       "      <td>Andriy Burkov</td>\n",
       "      <td>4.7</td>\n",
       "      <td>113.0</td>\n",
       "      <td>Paperback</td>\n",
       "      <td>35.49</td>\n",
       "      <td>Machine Learning</td>\n",
       "    </tr>\n",
       "    <tr>\n",
       "      <th>4</th>\n",
       "      <td>Machine Learning: 4 Books in 1: Basic Concepts...</td>\n",
       "      <td>Ethem Mining</td>\n",
       "      <td>4.3</td>\n",
       "      <td>106.0</td>\n",
       "      <td>Kindle</td>\n",
       "      <td>0.00</td>\n",
       "      <td>Machine Learning</td>\n",
       "    </tr>\n",
       "  </tbody>\n",
       "</table>\n",
       "</div>"
      ],
      "text/plain": [
       "                                                Name                Author  \\\n",
       "0  Hands-On Machine Learning with Scikit-Learn, K...        Aurélien Géron   \n",
       "1  Machine Learning Design Patterns: Solutions to...  Valliappa Lakshmanan   \n",
       "2  AI and Machine Learning for Coders: A Programm...      Laurence Moroney   \n",
       "3                       Machine Learning Engineering         Andriy Burkov   \n",
       "4  Machine Learning: 4 Books in 1: Basic Concepts...          Ethem Mining   \n",
       "\n",
       "   User Rating  Reviews     Format  Price          Category  \n",
       "0          4.8   1808.0  Paperback  17.50  Machine Learning  \n",
       "1          4.6     66.0  Paperback  35.49  Machine Learning  \n",
       "2          4.8     29.0  Paperback  45.59  Machine Learning  \n",
       "3          4.7    113.0  Paperback  35.49  Machine Learning  \n",
       "4          4.3    106.0     Kindle   0.00  Machine Learning  "
      ]
     },
     "execution_count": 109,
     "metadata": {},
     "output_type": "execute_result"
    }
   ],
   "source": [
    "df1.head()"
   ]
  },
  {
   "cell_type": "code",
   "execution_count": 110,
   "id": "540bc26d",
   "metadata": {},
   "outputs": [
    {
     "name": "stdout",
     "output_type": "stream",
     "text": [
      "<class 'pandas.core.frame.DataFrame'>\n",
      "Int64Index: 279 entries, 0 to 284\n",
      "Data columns (total 7 columns):\n",
      " #   Column       Non-Null Count  Dtype  \n",
      "---  ------       --------------  -----  \n",
      " 0   Name         279 non-null    object \n",
      " 1   Author       279 non-null    object \n",
      " 2   User Rating  279 non-null    float64\n",
      " 3   Reviews      279 non-null    float64\n",
      " 4   Format       279 non-null    object \n",
      " 5   Price        279 non-null    float64\n",
      " 6   Category     279 non-null    object \n",
      "dtypes: float64(3), object(4)\n",
      "memory usage: 25.5+ KB\n"
     ]
    }
   ],
   "source": [
    "df1.info()"
   ]
  },
  {
   "cell_type": "markdown",
   "id": "94ed8f1e",
   "metadata": {},
   "source": [
    "## Data Selection"
   ]
  },
  {
   "cell_type": "markdown",
   "id": "0c8d686c",
   "metadata": {},
   "source": [
    "Removing unnecessary columns: for our classification model we just need the (Name) column and (Category) column\n",
    "we are removing all other columns"
   ]
  },
  {
   "cell_type": "code",
   "execution_count": 111,
   "id": "62d2b775",
   "metadata": {},
   "outputs": [],
   "source": [
    "# we first copy our dataframe\n",
    "# and then remove the unnecessary cloumns from it\n",
    "new_df1 = df1[:]\n",
    "\n",
    "del new_df1[\"Author\"]\n",
    "del new_df1[\"User Rating\"]\n",
    "del new_df1[\"Reviews\"]\n",
    "del new_df1[\"Format\"]\n",
    "del new_df1[\"Price\"]"
   ]
  },
  {
   "cell_type": "code",
   "execution_count": 112,
   "id": "8075ee30",
   "metadata": {},
   "outputs": [
    {
     "data": {
      "text/html": [
       "<div>\n",
       "<style scoped>\n",
       "    .dataframe tbody tr th:only-of-type {\n",
       "        vertical-align: middle;\n",
       "    }\n",
       "\n",
       "    .dataframe tbody tr th {\n",
       "        vertical-align: top;\n",
       "    }\n",
       "\n",
       "    .dataframe thead th {\n",
       "        text-align: right;\n",
       "    }\n",
       "</style>\n",
       "<table border=\"1\" class=\"dataframe\">\n",
       "  <thead>\n",
       "    <tr style=\"text-align: right;\">\n",
       "      <th></th>\n",
       "      <th>Name</th>\n",
       "      <th>Category</th>\n",
       "    </tr>\n",
       "  </thead>\n",
       "  <tbody>\n",
       "    <tr>\n",
       "      <th>0</th>\n",
       "      <td>Hands-On Machine Learning with Scikit-Learn, K...</td>\n",
       "      <td>Machine Learning</td>\n",
       "    </tr>\n",
       "    <tr>\n",
       "      <th>1</th>\n",
       "      <td>Machine Learning Design Patterns: Solutions to...</td>\n",
       "      <td>Machine Learning</td>\n",
       "    </tr>\n",
       "    <tr>\n",
       "      <th>2</th>\n",
       "      <td>AI and Machine Learning for Coders: A Programm...</td>\n",
       "      <td>Machine Learning</td>\n",
       "    </tr>\n",
       "    <tr>\n",
       "      <th>3</th>\n",
       "      <td>Machine Learning Engineering</td>\n",
       "      <td>Machine Learning</td>\n",
       "    </tr>\n",
       "    <tr>\n",
       "      <th>4</th>\n",
       "      <td>Machine Learning: 4 Books in 1: Basic Concepts...</td>\n",
       "      <td>Machine Learning</td>\n",
       "    </tr>\n",
       "  </tbody>\n",
       "</table>\n",
       "</div>"
      ],
      "text/plain": [
       "                                                Name          Category\n",
       "0  Hands-On Machine Learning with Scikit-Learn, K...  Machine Learning\n",
       "1  Machine Learning Design Patterns: Solutions to...  Machine Learning\n",
       "2  AI and Machine Learning for Coders: A Programm...  Machine Learning\n",
       "3                       Machine Learning Engineering  Machine Learning\n",
       "4  Machine Learning: 4 Books in 1: Basic Concepts...  Machine Learning"
      ]
     },
     "execution_count": 112,
     "metadata": {},
     "output_type": "execute_result"
    }
   ],
   "source": [
    "new_df1.head()"
   ]
  },
  {
   "cell_type": "code",
   "execution_count": 113,
   "id": "76e9c947",
   "metadata": {},
   "outputs": [
    {
     "name": "stdout",
     "output_type": "stream",
     "text": [
      "<class 'pandas.core.frame.DataFrame'>\n",
      "Int64Index: 279 entries, 0 to 284\n",
      "Data columns (total 2 columns):\n",
      " #   Column    Non-Null Count  Dtype \n",
      "---  ------    --------------  ----- \n",
      " 0   Name      279 non-null    object\n",
      " 1   Category  279 non-null    object\n",
      "dtypes: object(2)\n",
      "memory usage: 6.5+ KB\n"
     ]
    }
   ],
   "source": [
    "new_df1.info()"
   ]
  },
  {
   "cell_type": "markdown",
   "id": "a50dd6a4",
   "metadata": {},
   "source": [
    "## Data Integration"
   ]
  },
  {
   "cell_type": "markdown",
   "id": "309d46f7",
   "metadata": {},
   "source": [
    "For our model to work well we are going to merge a new Amazon.com books dataset that contain books other then Machine learning books.\n"
   ]
  },
  {
   "cell_type": "code",
   "execution_count": 129,
   "id": "6c8136b8",
   "metadata": {},
   "outputs": [
    {
     "data": {
      "text/html": [
       "<div>\n",
       "<style scoped>\n",
       "    .dataframe tbody tr th:only-of-type {\n",
       "        vertical-align: middle;\n",
       "    }\n",
       "\n",
       "    .dataframe tbody tr th {\n",
       "        vertical-align: top;\n",
       "    }\n",
       "\n",
       "    .dataframe thead th {\n",
       "        text-align: right;\n",
       "    }\n",
       "</style>\n",
       "<table border=\"1\" class=\"dataframe\">\n",
       "  <thead>\n",
       "    <tr style=\"text-align: right;\">\n",
       "      <th></th>\n",
       "      <th>Name</th>\n",
       "      <th>Author</th>\n",
       "      <th>User Rating</th>\n",
       "      <th>Reviews</th>\n",
       "      <th>Price</th>\n",
       "      <th>Year</th>\n",
       "      <th>Genre</th>\n",
       "    </tr>\n",
       "  </thead>\n",
       "  <tbody>\n",
       "    <tr>\n",
       "      <th>0</th>\n",
       "      <td>10-Day Green Smoothie Cleanse</td>\n",
       "      <td>JJ Smith</td>\n",
       "      <td>4.7</td>\n",
       "      <td>17350</td>\n",
       "      <td>8</td>\n",
       "      <td>2016</td>\n",
       "      <td>Non Fiction</td>\n",
       "    </tr>\n",
       "    <tr>\n",
       "      <th>1</th>\n",
       "      <td>11/22/63: A Novel</td>\n",
       "      <td>Stephen King</td>\n",
       "      <td>4.6</td>\n",
       "      <td>2052</td>\n",
       "      <td>22</td>\n",
       "      <td>2011</td>\n",
       "      <td>Fiction</td>\n",
       "    </tr>\n",
       "    <tr>\n",
       "      <th>2</th>\n",
       "      <td>12 Rules for Life: An Antidote to Chaos</td>\n",
       "      <td>Jordan B. Peterson</td>\n",
       "      <td>4.7</td>\n",
       "      <td>18979</td>\n",
       "      <td>15</td>\n",
       "      <td>2018</td>\n",
       "      <td>Non Fiction</td>\n",
       "    </tr>\n",
       "    <tr>\n",
       "      <th>3</th>\n",
       "      <td>1984 (Signet Classics)</td>\n",
       "      <td>George Orwell</td>\n",
       "      <td>4.7</td>\n",
       "      <td>21424</td>\n",
       "      <td>6</td>\n",
       "      <td>2017</td>\n",
       "      <td>Fiction</td>\n",
       "    </tr>\n",
       "    <tr>\n",
       "      <th>4</th>\n",
       "      <td>5,000 Awesome Facts (About Everything!) (Natio...</td>\n",
       "      <td>National Geographic Kids</td>\n",
       "      <td>4.8</td>\n",
       "      <td>7665</td>\n",
       "      <td>12</td>\n",
       "      <td>2019</td>\n",
       "      <td>Non Fiction</td>\n",
       "    </tr>\n",
       "  </tbody>\n",
       "</table>\n",
       "</div>"
      ],
      "text/plain": [
       "                                                Name  \\\n",
       "0                      10-Day Green Smoothie Cleanse   \n",
       "1                                  11/22/63: A Novel   \n",
       "2            12 Rules for Life: An Antidote to Chaos   \n",
       "3                             1984 (Signet Classics)   \n",
       "4  5,000 Awesome Facts (About Everything!) (Natio...   \n",
       "\n",
       "                     Author  User Rating  Reviews  Price  Year        Genre  \n",
       "0                  JJ Smith          4.7    17350      8  2016  Non Fiction  \n",
       "1              Stephen King          4.6     2052     22  2011      Fiction  \n",
       "2        Jordan B. Peterson          4.7    18979     15  2018  Non Fiction  \n",
       "3             George Orwell          4.7    21424      6  2017      Fiction  \n",
       "4  National Geographic Kids          4.8     7665     12  2019  Non Fiction  "
      ]
     },
     "execution_count": 129,
     "metadata": {},
     "output_type": "execute_result"
    }
   ],
   "source": [
    "df2 = pd.read_csv(r\"Downloads\\CSVFiles\\amazonBooks.csv\")\n",
    "df2.head()"
   ]
  },
  {
   "cell_type": "code",
   "execution_count": 130,
   "id": "6633bd70",
   "metadata": {},
   "outputs": [],
   "source": [
    "# first we remove the unnecessary features\n",
    "\n",
    "del df2[\"Author\"]\n",
    "del df2[\"User Rating\"]\n",
    "del df2[\"Reviews\"]\n",
    "del df2[\"Price\"]\n",
    "del df2[\"Year\"]\n",
    "del df2[\"Genre\"]"
   ]
  },
  {
   "cell_type": "code",
   "execution_count": 131,
   "id": "ee2726e0",
   "metadata": {},
   "outputs": [
    {
     "data": {
      "text/html": [
       "<div>\n",
       "<style scoped>\n",
       "    .dataframe tbody tr th:only-of-type {\n",
       "        vertical-align: middle;\n",
       "    }\n",
       "\n",
       "    .dataframe tbody tr th {\n",
       "        vertical-align: top;\n",
       "    }\n",
       "\n",
       "    .dataframe thead th {\n",
       "        text-align: right;\n",
       "    }\n",
       "</style>\n",
       "<table border=\"1\" class=\"dataframe\">\n",
       "  <thead>\n",
       "    <tr style=\"text-align: right;\">\n",
       "      <th></th>\n",
       "      <th>Name</th>\n",
       "    </tr>\n",
       "  </thead>\n",
       "  <tbody>\n",
       "    <tr>\n",
       "      <th>0</th>\n",
       "      <td>10-Day Green Smoothie Cleanse</td>\n",
       "    </tr>\n",
       "    <tr>\n",
       "      <th>1</th>\n",
       "      <td>11/22/63: A Novel</td>\n",
       "    </tr>\n",
       "    <tr>\n",
       "      <th>2</th>\n",
       "      <td>12 Rules for Life: An Antidote to Chaos</td>\n",
       "    </tr>\n",
       "    <tr>\n",
       "      <th>3</th>\n",
       "      <td>1984 (Signet Classics)</td>\n",
       "    </tr>\n",
       "    <tr>\n",
       "      <th>4</th>\n",
       "      <td>5,000 Awesome Facts (About Everything!) (Natio...</td>\n",
       "    </tr>\n",
       "  </tbody>\n",
       "</table>\n",
       "</div>"
      ],
      "text/plain": [
       "                                                Name\n",
       "0                      10-Day Green Smoothie Cleanse\n",
       "1                                  11/22/63: A Novel\n",
       "2            12 Rules for Life: An Antidote to Chaos\n",
       "3                             1984 (Signet Classics)\n",
       "4  5,000 Awesome Facts (About Everything!) (Natio..."
      ]
     },
     "execution_count": 131,
     "metadata": {},
     "output_type": "execute_result"
    }
   ],
   "source": [
    "df2.head()"
   ]
  },
  {
   "cell_type": "code",
   "execution_count": 132,
   "id": "489d720f",
   "metadata": {},
   "outputs": [
    {
     "data": {
      "text/plain": [
       "Name    0\n",
       "dtype: int64"
      ]
     },
     "execution_count": 132,
     "metadata": {},
     "output_type": "execute_result"
    }
   ],
   "source": [
    "# cleaning the second dataframe\n",
    "\n",
    "# checking for missing value\n",
    "df2.isnull().sum()"
   ]
  },
  {
   "cell_type": "code",
   "execution_count": 133,
   "id": "d8f110c4",
   "metadata": {},
   "outputs": [
    {
     "data": {
      "text/plain": [
       "200"
      ]
     },
     "execution_count": 133,
     "metadata": {},
     "output_type": "execute_result"
    }
   ],
   "source": [
    "# checking for duplicates\n",
    "df2[\"Name\"] = df2[\"Name\"].str.title().str.strip()\n",
    "df2[\"Name\"].duplicated().sum()"
   ]
  },
  {
   "cell_type": "code",
   "execution_count": 134,
   "id": "c12e9785",
   "metadata": {},
   "outputs": [],
   "source": [
    "# droping duplicates\n",
    "df2 = df2.drop_duplicates()"
   ]
  },
  {
   "cell_type": "code",
   "execution_count": 135,
   "id": "39b2bef3",
   "metadata": {},
   "outputs": [
    {
     "data": {
      "text/plain": [
       "0"
      ]
     },
     "execution_count": 135,
     "metadata": {},
     "output_type": "execute_result"
    }
   ],
   "source": [
    "df2[\"Name\"].duplicated().sum()"
   ]
  },
  {
   "cell_type": "code",
   "execution_count": 136,
   "id": "40031f6e",
   "metadata": {},
   "outputs": [],
   "source": [
    "# add the (Category) feature into the second dataframe\n",
    "df2[\"Category\"] = \"Others\""
   ]
  },
  {
   "cell_type": "code",
   "execution_count": 137,
   "id": "a9afaf12",
   "metadata": {},
   "outputs": [
    {
     "data": {
      "text/plain": [
       "(350, 2)"
      ]
     },
     "execution_count": 137,
     "metadata": {},
     "output_type": "execute_result"
    }
   ],
   "source": [
    "df2.shape"
   ]
  },
  {
   "cell_type": "code",
   "execution_count": 138,
   "id": "628cb176",
   "metadata": {},
   "outputs": [
    {
     "name": "stdout",
     "output_type": "stream",
     "text": [
      "<class 'pandas.core.frame.DataFrame'>\n",
      "Int64Index: 350 entries, 0 to 546\n",
      "Data columns (total 2 columns):\n",
      " #   Column    Non-Null Count  Dtype \n",
      "---  ------    --------------  ----- \n",
      " 0   Name      350 non-null    object\n",
      " 1   Category  350 non-null    object\n",
      "dtypes: object(2)\n",
      "memory usage: 8.2+ KB\n"
     ]
    }
   ],
   "source": [
    "df2.info()"
   ]
  },
  {
   "cell_type": "code",
   "execution_count": 139,
   "id": "9cee0cd9",
   "metadata": {},
   "outputs": [
    {
     "data": {
      "text/html": [
       "<div>\n",
       "<style scoped>\n",
       "    .dataframe tbody tr th:only-of-type {\n",
       "        vertical-align: middle;\n",
       "    }\n",
       "\n",
       "    .dataframe tbody tr th {\n",
       "        vertical-align: top;\n",
       "    }\n",
       "\n",
       "    .dataframe thead th {\n",
       "        text-align: right;\n",
       "    }\n",
       "</style>\n",
       "<table border=\"1\" class=\"dataframe\">\n",
       "  <thead>\n",
       "    <tr style=\"text-align: right;\">\n",
       "      <th></th>\n",
       "      <th>Name</th>\n",
       "      <th>Category</th>\n",
       "    </tr>\n",
       "  </thead>\n",
       "  <tbody>\n",
       "    <tr>\n",
       "      <th>0</th>\n",
       "      <td>Hands-On Machine Learning with Scikit-Learn, K...</td>\n",
       "      <td>Machine Learning</td>\n",
       "    </tr>\n",
       "    <tr>\n",
       "      <th>1</th>\n",
       "      <td>Machine Learning Design Patterns: Solutions to...</td>\n",
       "      <td>Machine Learning</td>\n",
       "    </tr>\n",
       "    <tr>\n",
       "      <th>2</th>\n",
       "      <td>AI and Machine Learning for Coders: A Programm...</td>\n",
       "      <td>Machine Learning</td>\n",
       "    </tr>\n",
       "    <tr>\n",
       "      <th>3</th>\n",
       "      <td>Machine Learning Engineering</td>\n",
       "      <td>Machine Learning</td>\n",
       "    </tr>\n",
       "    <tr>\n",
       "      <th>4</th>\n",
       "      <td>Machine Learning: 4 Books in 1: Basic Concepts...</td>\n",
       "      <td>Machine Learning</td>\n",
       "    </tr>\n",
       "  </tbody>\n",
       "</table>\n",
       "</div>"
      ],
      "text/plain": [
       "                                                Name          Category\n",
       "0  Hands-On Machine Learning with Scikit-Learn, K...  Machine Learning\n",
       "1  Machine Learning Design Patterns: Solutions to...  Machine Learning\n",
       "2  AI and Machine Learning for Coders: A Programm...  Machine Learning\n",
       "3                       Machine Learning Engineering  Machine Learning\n",
       "4  Machine Learning: 4 Books in 1: Basic Concepts...  Machine Learning"
      ]
     },
     "execution_count": 139,
     "metadata": {},
     "output_type": "execute_result"
    }
   ],
   "source": [
    "# outer: use union of keys from both frames, similar to a SQL full outer join; sort keys lexicographically.\n",
    "final_df = pd.merge(new_df1, df2, how=\"outer\")\n",
    "final_df.head()"
   ]
  },
  {
   "cell_type": "code",
   "execution_count": 140,
   "id": "a8ae0bac",
   "metadata": {},
   "outputs": [
    {
     "name": "stdout",
     "output_type": "stream",
     "text": [
      "<class 'pandas.core.frame.DataFrame'>\n",
      "Int64Index: 629 entries, 0 to 628\n",
      "Data columns (total 2 columns):\n",
      " #   Column    Non-Null Count  Dtype \n",
      "---  ------    --------------  ----- \n",
      " 0   Name      629 non-null    object\n",
      " 1   Category  629 non-null    object\n",
      "dtypes: object(2)\n",
      "memory usage: 14.7+ KB\n"
     ]
    }
   ],
   "source": [
    "final_df.info()"
   ]
  },
  {
   "cell_type": "code",
   "execution_count": 141,
   "id": "771eb62f",
   "metadata": {},
   "outputs": [
    {
     "data": {
      "text/plain": [
       "Name        0\n",
       "Category    0\n",
       "dtype: int64"
      ]
     },
     "execution_count": 141,
     "metadata": {},
     "output_type": "execute_result"
    }
   ],
   "source": [
    "# checking for missing values in merge dataframe\n",
    "final_df.isnull().sum()"
   ]
  },
  {
   "cell_type": "code",
   "execution_count": 142,
   "id": "69d9a82d",
   "metadata": {},
   "outputs": [
    {
     "data": {
      "text/plain": [
       "5"
      ]
     },
     "execution_count": 142,
     "metadata": {},
     "output_type": "execute_result"
    }
   ],
   "source": [
    "# checking for duplicate values in merge dataframe\n",
    "final_df.duplicated().sum()"
   ]
  },
  {
   "cell_type": "code",
   "execution_count": 143,
   "id": "268b5c96",
   "metadata": {},
   "outputs": [],
   "source": [
    "final_df = final_df.drop_duplicates()"
   ]
  },
  {
   "cell_type": "code",
   "execution_count": 144,
   "id": "68c34072",
   "metadata": {},
   "outputs": [
    {
     "data": {
      "text/plain": [
       "0"
      ]
     },
     "execution_count": 144,
     "metadata": {},
     "output_type": "execute_result"
    }
   ],
   "source": [
    "final_df.duplicated().sum()"
   ]
  },
  {
   "cell_type": "code",
   "execution_count": 145,
   "id": "a26ad2a3",
   "metadata": {},
   "outputs": [
    {
     "data": {
      "text/plain": [
       "(624, 2)"
      ]
     },
     "execution_count": 145,
     "metadata": {},
     "output_type": "execute_result"
    }
   ],
   "source": [
    "final_df.shape"
   ]
  },
  {
   "cell_type": "markdown",
   "id": "70a3b9f3",
   "metadata": {},
   "source": [
    "## Shuffling dataframe"
   ]
  },
  {
   "cell_type": "markdown",
   "id": "3a735946",
   "metadata": {},
   "source": [
    "We are going to suffle our new dataframe because now all books from one category place togather, it mean all rows in the data frame are order based on category, \n",
    "its because when we merge the two dataframe the second data frame place on the end of the first dataframe.\n"
   ]
  },
  {
   "cell_type": "code",
   "execution_count": 146,
   "id": "37d96f68",
   "metadata": {},
   "outputs": [],
   "source": [
    "# the frac keyword argument specifies the fraction of rows to retrun in the random sample,\n",
    "# so frac=1 means retrun all rows in random order.\n",
    "# specifying drop=True prevents .reset_index from creating a column cantaining the old index entries.\n",
    "final_df = final_df.sample(frac=1).reset_index(drop=True)"
   ]
  },
  {
   "cell_type": "code",
   "execution_count": 147,
   "id": "7b2edced",
   "metadata": {},
   "outputs": [
    {
     "data": {
      "text/plain": [
       "(624, 2)"
      ]
     },
     "execution_count": 147,
     "metadata": {},
     "output_type": "execute_result"
    }
   ],
   "source": [
    "final_df.shape"
   ]
  },
  {
   "cell_type": "code",
   "execution_count": 148,
   "id": "38c37458",
   "metadata": {},
   "outputs": [
    {
     "data": {
      "text/html": [
       "<div>\n",
       "<style scoped>\n",
       "    .dataframe tbody tr th:only-of-type {\n",
       "        vertical-align: middle;\n",
       "    }\n",
       "\n",
       "    .dataframe tbody tr th {\n",
       "        vertical-align: top;\n",
       "    }\n",
       "\n",
       "    .dataframe thead th {\n",
       "        text-align: right;\n",
       "    }\n",
       "</style>\n",
       "<table border=\"1\" class=\"dataframe\">\n",
       "  <thead>\n",
       "    <tr style=\"text-align: right;\">\n",
       "      <th></th>\n",
       "      <th>Name</th>\n",
       "      <th>Category</th>\n",
       "    </tr>\n",
       "  </thead>\n",
       "  <tbody>\n",
       "    <tr>\n",
       "      <th>0</th>\n",
       "      <td>Calm The F*Ck Down: An Irreverent Adult Colori...</td>\n",
       "      <td>Others</td>\n",
       "    </tr>\n",
       "    <tr>\n",
       "      <th>1</th>\n",
       "      <td>Toy Hammer w/ Lights, Learning Mode and Music ...</td>\n",
       "      <td>Machine Learning</td>\n",
       "    </tr>\n",
       "    <tr>\n",
       "      <th>2</th>\n",
       "      <td>The Secret Life of Chaos</td>\n",
       "      <td>Machine Learning</td>\n",
       "    </tr>\n",
       "    <tr>\n",
       "      <th>3</th>\n",
       "      <td>Born To Run</td>\n",
       "      <td>Others</td>\n",
       "    </tr>\n",
       "    <tr>\n",
       "      <th>4</th>\n",
       "      <td>An Introduction to Variational Autoencoders (F...</td>\n",
       "      <td>Machine Learning</td>\n",
       "    </tr>\n",
       "  </tbody>\n",
       "</table>\n",
       "</div>"
      ],
      "text/plain": [
       "                                                Name          Category\n",
       "0  Calm The F*Ck Down: An Irreverent Adult Colori...            Others\n",
       "1  Toy Hammer w/ Lights, Learning Mode and Music ...  Machine Learning\n",
       "2                           The Secret Life of Chaos  Machine Learning\n",
       "3                                        Born To Run            Others\n",
       "4  An Introduction to Variational Autoencoders (F...  Machine Learning"
      ]
     },
     "execution_count": 148,
     "metadata": {},
     "output_type": "execute_result"
    }
   ],
   "source": [
    "final_df.head()"
   ]
  },
  {
   "cell_type": "code",
   "execution_count": 149,
   "id": "a9ec4b9a",
   "metadata": {},
   "outputs": [
    {
     "data": {
      "text/html": [
       "<div>\n",
       "<style scoped>\n",
       "    .dataframe tbody tr th:only-of-type {\n",
       "        vertical-align: middle;\n",
       "    }\n",
       "\n",
       "    .dataframe tbody tr th {\n",
       "        vertical-align: top;\n",
       "    }\n",
       "\n",
       "    .dataframe thead th {\n",
       "        text-align: right;\n",
       "    }\n",
       "</style>\n",
       "<table border=\"1\" class=\"dataframe\">\n",
       "  <thead>\n",
       "    <tr style=\"text-align: right;\">\n",
       "      <th></th>\n",
       "      <th>Name</th>\n",
       "      <th>Category</th>\n",
       "    </tr>\n",
       "  </thead>\n",
       "  <tbody>\n",
       "    <tr>\n",
       "      <th>619</th>\n",
       "      <td>The 5000 Year Leap</td>\n",
       "      <td>Others</td>\n",
       "    </tr>\n",
       "    <tr>\n",
       "      <th>620</th>\n",
       "      <td>Machine Learning: 2 Books in 1: An Introductio...</td>\n",
       "      <td>Machine Learning</td>\n",
       "    </tr>\n",
       "    <tr>\n",
       "      <th>621</th>\n",
       "      <td>Python Machine Learning</td>\n",
       "      <td>Machine Learning</td>\n",
       "    </tr>\n",
       "    <tr>\n",
       "      <th>622</th>\n",
       "      <td>Unbroken: A World War Ii Story Of Survival, Re...</td>\n",
       "      <td>Others</td>\n",
       "    </tr>\n",
       "    <tr>\n",
       "      <th>623</th>\n",
       "      <td>Machine Learning and AI for Healthcare: Big Da...</td>\n",
       "      <td>Machine Learning</td>\n",
       "    </tr>\n",
       "  </tbody>\n",
       "</table>\n",
       "</div>"
      ],
      "text/plain": [
       "                                                  Name          Category\n",
       "619                                 The 5000 Year Leap            Others\n",
       "620  Machine Learning: 2 Books in 1: An Introductio...  Machine Learning\n",
       "621                            Python Machine Learning  Machine Learning\n",
       "622  Unbroken: A World War Ii Story Of Survival, Re...            Others\n",
       "623  Machine Learning and AI for Healthcare: Big Da...  Machine Learning"
      ]
     },
     "execution_count": 149,
     "metadata": {},
     "output_type": "execute_result"
    }
   ],
   "source": [
    "final_df.tail()"
   ]
  },
  {
   "cell_type": "markdown",
   "id": "9e7bbf48",
   "metadata": {},
   "source": [
    "# Modeling"
   ]
  },
  {
   "cell_type": "markdown",
   "id": "e99e047d",
   "metadata": {},
   "source": [
    "As we mention at the beginning we are going to build a model to classify a book whether it is a machine learning book or not by the use of book names, for this task to be done we are using a machine learning algorithm called Naive Bayes, if we want to be specific we are using Multinomial Naive Bayes."
   ]
  },
  {
   "cell_type": "markdown",
   "id": "d755977d",
   "metadata": {},
   "source": [
    "## Multinomial Naive Bayes"
   ]
  },
  {
   "cell_type": "markdown",
   "id": "e30bb652",
   "metadata": {},
   "source": [
    "The Multinomial Naive Bayes algorithm is a Bayesian learning approach popular in Natural Language Processing (NLP). The program guesses the tag of a text, such as an email or a newspaper story, using the Bayes theorem. It calculates each tag's likelihood for a given sample and outputs the tag with the greatest chance."
   ]
  },
  {
   "cell_type": "markdown",
   "id": "9b773083",
   "metadata": {},
   "source": [
    "## Model Development"
   ]
  },
  {
   "cell_type": "code",
   "execution_count": 150,
   "id": "b90d5c73",
   "metadata": {},
   "outputs": [],
   "source": [
    "# importing libraries\n",
    "import string\n",
    "from sklearn.feature_extraction.text import CountVectorizer\n",
    "from nltk.corpus import stopwords"
   ]
  },
  {
   "cell_type": "code",
   "execution_count": 151,
   "id": "668f947e",
   "metadata": {},
   "outputs": [],
   "source": [
    "# create transform\n",
    "vectorizer = CountVectorizer()"
   ]
  },
  {
   "cell_type": "code",
   "execution_count": 152,
   "id": "fc8817cc",
   "metadata": {},
   "outputs": [],
   "source": [
    "def text_cleaning(a):\n",
    "    \n",
    "    # deleting or removing punctuations it will split to charecters\n",
    "    remove_punctuation = [char for char in a if char not in string.punctuation]\n",
    "    \n",
    "    # join does charecters \n",
    "    remove_punctuation = ''.join(remove_punctuation)\n",
    "    \n",
    "    # agin spliting or tokenizeing the words and removing the stop words and return them as a list \n",
    "    return [word for word in remove_punctuation.split() if word.lower() not in stopwords.words(\"english\")]"
   ]
  },
  {
   "cell_type": "code",
   "execution_count": 153,
   "id": "8934e7a7",
   "metadata": {},
   "outputs": [
    {
     "data": {
      "text/html": [
       "<div>\n",
       "<style scoped>\n",
       "    .dataframe tbody tr th:only-of-type {\n",
       "        vertical-align: middle;\n",
       "    }\n",
       "\n",
       "    .dataframe tbody tr th {\n",
       "        vertical-align: top;\n",
       "    }\n",
       "\n",
       "    .dataframe thead th {\n",
       "        text-align: right;\n",
       "    }\n",
       "</style>\n",
       "<table border=\"1\" class=\"dataframe\">\n",
       "  <thead>\n",
       "    <tr style=\"text-align: right;\">\n",
       "      <th></th>\n",
       "      <th>Name</th>\n",
       "      <th>Category</th>\n",
       "    </tr>\n",
       "  </thead>\n",
       "  <tbody>\n",
       "    <tr>\n",
       "      <th>0</th>\n",
       "      <td>Calm The F*Ck Down: An Irreverent Adult Colori...</td>\n",
       "      <td>Others</td>\n",
       "    </tr>\n",
       "    <tr>\n",
       "      <th>1</th>\n",
       "      <td>Toy Hammer w/ Lights, Learning Mode and Music ...</td>\n",
       "      <td>Machine Learning</td>\n",
       "    </tr>\n",
       "    <tr>\n",
       "      <th>2</th>\n",
       "      <td>The Secret Life of Chaos</td>\n",
       "      <td>Machine Learning</td>\n",
       "    </tr>\n",
       "    <tr>\n",
       "      <th>3</th>\n",
       "      <td>Born To Run</td>\n",
       "      <td>Others</td>\n",
       "    </tr>\n",
       "    <tr>\n",
       "      <th>4</th>\n",
       "      <td>An Introduction to Variational Autoencoders (F...</td>\n",
       "      <td>Machine Learning</td>\n",
       "    </tr>\n",
       "  </tbody>\n",
       "</table>\n",
       "</div>"
      ],
      "text/plain": [
       "                                                Name          Category\n",
       "0  Calm The F*Ck Down: An Irreverent Adult Colori...            Others\n",
       "1  Toy Hammer w/ Lights, Learning Mode and Music ...  Machine Learning\n",
       "2                           The Secret Life of Chaos  Machine Learning\n",
       "3                                        Born To Run            Others\n",
       "4  An Introduction to Variational Autoencoders (F...  Machine Learning"
      ]
     },
     "execution_count": 153,
     "metadata": {},
     "output_type": "execute_result"
    }
   ],
   "source": [
    "final_df.head()"
   ]
  },
  {
   "cell_type": "code",
   "execution_count": 154,
   "id": "8f6d6a1a",
   "metadata": {},
   "outputs": [
    {
     "name": "stdout",
     "output_type": "stream",
     "text": [
      "0      [Calm, FCk, Irreverent, Adult, Coloring, Book,...\n",
      "1      [Toy, Hammer, w, Lights, Learning, Mode, Music...\n",
      "2                                  [Secret, Life, Chaos]\n",
      "3                                            [Born, Run]\n",
      "4      [Introduction, Variational, Autoencoders, Foun...\n",
      "                             ...                        \n",
      "619                                   [5000, Year, Leap]\n",
      "620    [Machine, Learning, 2, Books, 1, Introduction,...\n",
      "621                          [Python, Machine, Learning]\n",
      "622    [Unbroken, World, War, Ii, Story, Survival, Re...\n",
      "623    [Machine, Learning, AI, Healthcare, Big, Data,...\n",
      "Name: Name, Length: 624, dtype: object\n"
     ]
    }
   ],
   "source": [
    "# data after removing punctuations and stop words\n",
    "print(final_df.iloc[:,0].apply(text_cleaning))"
   ]
  },
  {
   "cell_type": "code",
   "execution_count": 155,
   "id": "2689046b",
   "metadata": {},
   "outputs": [
    {
     "data": {
      "text/plain": [
       "{'Calm': 251,\n",
       " 'FCk': 548,\n",
       " 'Irreverent': 821,\n",
       " 'Adult': 71,\n",
       " 'Coloring': 312,\n",
       " 'Book': 213,\n",
       " 'Series': 1393,\n",
       " 'Toy': 1597,\n",
       " 'Hammer': 697,\n",
       " 'w': 1852,\n",
       " 'Lights': 921,\n",
       " 'Learning': 890,\n",
       " 'Mode': 1025,\n",
       " 'Music': 1044,\n",
       " '–': 1854,\n",
       " 'Baby': 158,\n",
       " 'Plays': 1182,\n",
       " '6': 43,\n",
       " 'Short': 1414,\n",
       " 'Kids': 853,\n",
       " 'Songs': 1447,\n",
       " 'Counts': 359,\n",
       " '110': 5,\n",
       " 'Changes': 281,\n",
       " 'Funny': 621,\n",
       " 'Expressions': 545,\n",
       " '12': 8,\n",
       " 'Months': 1032,\n",
       " 'Older': 1093,\n",
       " 'Secret': 1383,\n",
       " 'Life': 912,\n",
       " 'Chaos': 282,\n",
       " 'Born': 216,\n",
       " 'Run': 1348,\n",
       " 'Introduction': 815,\n",
       " 'Variational': 1663,\n",
       " 'Autoencoders': 144,\n",
       " 'Foundations': 606,\n",
       " 'Trendsr': 1610,\n",
       " 'Machine': 951,\n",
       " 'Towers': 1595,\n",
       " 'Midnight': 1005,\n",
       " 'Wheel': 1695,\n",
       " 'Time': 1575,\n",
       " 'Thirteen': 1564,\n",
       " 'Second': 1382,\n",
       " 'Bree': 229,\n",
       " 'Tanner': 1534,\n",
       " 'Eclipse': 488,\n",
       " 'Novella': 1080,\n",
       " 'Twilight': 1625,\n",
       " 'Saga': 1357,\n",
       " 'Robotics': 1338,\n",
       " 'AI': 52,\n",
       " 'Evolution': 530,\n",
       " 'Robot': 1336,\n",
       " 'TShirt': 1527,\n",
       " 'Cloud': 303,\n",
       " 'Computing': 334,\n",
       " 'Killing': 857,\n",
       " 'Kennedy': 844,\n",
       " 'End': 505,\n",
       " 'Camelot': 253,\n",
       " 'PoutPout': 1195,\n",
       " 'Fish': 588,\n",
       " 'Last': 879,\n",
       " 'Week': 1691,\n",
       " 'Tonight': 1589,\n",
       " 'John': 831,\n",
       " 'Oliver': 1095,\n",
       " 'Presents': 1212,\n",
       " 'Day': 408,\n",
       " 'Marlon': 971,\n",
       " 'Bundo': 241,\n",
       " 'Better': 194,\n",
       " 'Lgbt': 908,\n",
       " 'Children\\x92S': 287,\n",
       " 'Homebody': 741,\n",
       " 'Guide': 684,\n",
       " 'Creating': 370,\n",
       " 'Spaces': 1451,\n",
       " 'Never': 1063,\n",
       " 'Want': 1680,\n",
       " 'Leave': 892,\n",
       " 'Designs': 430,\n",
       " 'Stress': 1495,\n",
       " 'Relief': 1306,\n",
       " 'Garden': 628,\n",
       " 'Mandalas': 964,\n",
       " 'Animals': 113,\n",
       " 'Paisley': 1128,\n",
       " 'Patterns': 1147,\n",
       " 'Data': 402,\n",
       " 'Management': 962,\n",
       " 'Model': 1026,\n",
       " 'Training': 1603,\n",
       " 'Neural': 1061,\n",
       " 'Networks': 1060,\n",
       " 'Algorithms': 92,\n",
       " 'Naive': 1049,\n",
       " 'Bayes': 172,\n",
       " 'Classifier': 299,\n",
       " 'Tutorial': 1622,\n",
       " 'House': 746,\n",
       " 'Hades': 692,\n",
       " 'Heroes': 728,\n",
       " 'Olympus': 1099,\n",
       " '4': 33,\n",
       " 'Tinker': 1579,\n",
       " 'Toddlers': 1586,\n",
       " 'second': 1828,\n",
       " 'edition': 1768,\n",
       " 'Adaptive': 68,\n",
       " 'Computation': 329,\n",
       " 'series': 1832,\n",
       " 'Artificial': 128,\n",
       " 'Intelligence': 804,\n",
       " 'Practice': 1201,\n",
       " '50': 38,\n",
       " 'Successful': 1502,\n",
       " 'Companies': 323,\n",
       " 'Used': 1653,\n",
       " 'Solve': 1442,\n",
       " 'Problems': 1227,\n",
       " 'R': 1272,\n",
       " '5': 37,\n",
       " 'Love': 941,\n",
       " 'Languages': 876,\n",
       " 'Lasts': 880,\n",
       " 'Catching': 264,\n",
       " 'Fire': 584,\n",
       " 'Hunger': 752,\n",
       " 'Games': 627,\n",
       " 'Sycamore': 1522,\n",
       " 'Row': 1344,\n",
       " 'Jake': 824,\n",
       " 'Brigance': 230,\n",
       " 'Girl': 649,\n",
       " 'Dragon': 466,\n",
       " 'Tattoo': 1536,\n",
       " 'Millennium': 1010,\n",
       " 'Beginner’s': 187,\n",
       " 'Mining': 1015,\n",
       " 'Big': 196,\n",
       " 'Instant': 801,\n",
       " 'Pot': 1190,\n",
       " 'Pressure': 1216,\n",
       " 'Cooker': 352,\n",
       " 'Cookbook': 350,\n",
       " '500': 39,\n",
       " 'Everyday': 526,\n",
       " 'Recipes': 1291,\n",
       " 'Beginners': 185,\n",
       " 'Advanced': 73,\n",
       " 'Users': 1655,\n",
       " 'Try': 1621,\n",
       " 'Easy': 484,\n",
       " 'Healthy…': 718,\n",
       " 'Frozen': 615,\n",
       " 'Little': 929,\n",
       " 'Golden': 664,\n",
       " 'Graph': 674,\n",
       " 'Representation': 1309,\n",
       " 'Synthesis': 1524,\n",
       " 'Lectures': 895,\n",
       " 'Complete': 326,\n",
       " 'Delphi': 425,\n",
       " 'programming': 1820,\n",
       " 'Developer': 434,\n",
       " '2021': 24,\n",
       " 'Zero': 1733,\n",
       " 'Mastery': 976,\n",
       " 'become': 1750,\n",
       " 'get': 1782,\n",
       " 'hired': 1788,\n",
       " 'Build': 237,\n",
       " 'projects': 1821,\n",
       " 'learn': 1797,\n",
       " 'Light': 920,\n",
       " 'Cannot': 255,\n",
       " 'See': 1386,\n",
       " 'HighDimensional': 730,\n",
       " 'Statistics': 1470,\n",
       " 'NonAsymptotic': 1073,\n",
       " 'Viewpoint': 1668,\n",
       " 'Divergent': 452,\n",
       " 'Stop': 1484,\n",
       " 'Apologizing': 117,\n",
       " 'ShameFree': 1408,\n",
       " 'Plan': 1174,\n",
       " 'Embracing': 503,\n",
       " 'Achieving': 61,\n",
       " 'Goals': 658,\n",
       " 'Knowledge': 867,\n",
       " 'Discovery': 448,\n",
       " 'Support': 1510,\n",
       " 'Vector': 1664,\n",
       " 'Machines': 952,\n",
       " 'Wiley': 1701,\n",
       " 'Methods': 1002,\n",
       " 'Applications': 118,\n",
       " '3': 26,\n",
       " 'Gaussian': 632,\n",
       " 'Processes': 1228,\n",
       " 'Four': 607,\n",
       " 'Agreements': 81,\n",
       " 'Practical': 1200,\n",
       " 'Personal': 1160,\n",
       " 'Freedom': 610,\n",
       " 'Toltec': 1588,\n",
       " 'Wisdom': 1707,\n",
       " 'Harry': 708,\n",
       " 'Potter': 1192,\n",
       " 'Goblet': 659,\n",
       " 'Illustrated': 772,\n",
       " 'Edition': 491,\n",
       " 'Rush': 1351,\n",
       " 'Revere': 1321,\n",
       " 'First': 586,\n",
       " 'Patriots': 1144,\n",
       " 'TimeTravel': 1576,\n",
       " 'Adventures': 75,\n",
       " 'Exceptional': 536,\n",
       " 'Americans': 105,\n",
       " '2': 20,\n",
       " 'Forever': 602,\n",
       " 'Automated': 146,\n",
       " 'Systems': 1526,\n",
       " 'Challenges': 276,\n",
       " 'Springer': 1458,\n",
       " 'Computer': 331,\n",
       " 'Science': 1369,\n",
       " 'Nerd': 1057,\n",
       " 'Gift': 645,\n",
       " 'Raglan': 1278,\n",
       " 'Baseball': 166,\n",
       " 'Tee': 1545,\n",
       " 'Reagan': 1285,\n",
       " 'Violent': 1672,\n",
       " 'Assault': 131,\n",
       " 'Changed': 280,\n",
       " 'Presidency': 1213,\n",
       " 'Bill': 199,\n",
       " 'OReillyS': 1085,\n",
       " 'Deep': 418,\n",
       " 'Structured': 1496,\n",
       " 'Fine': 583,\n",
       " 'Childrens': 286,\n",
       " 'Story': 1487,\n",
       " 'SongPoem': 1446,\n",
       " 'Player': 1180,\n",
       " 'English': 509,\n",
       " 'Educational': 495,\n",
       " 'Babies': 157,\n",
       " 'GiftToddler': 646,\n",
       " 'Birthday': 205,\n",
       " 'Subtle': 1500,\n",
       " 'Art': 126,\n",
       " 'Giving': 653,\n",
       " 'Counterintuitive': 357,\n",
       " 'Approach': 120,\n",
       " 'Living': 932,\n",
       " 'Good': 668,\n",
       " 'Dome': 459,\n",
       " 'Novel': 1079,\n",
       " 'Game': 626,\n",
       " 'Thrones': 1571,\n",
       " 'Boxed': 220,\n",
       " 'Set': 1399,\n",
       " 'ThronesA': 1572,\n",
       " 'Clash': 294,\n",
       " 'KingsA': 859,\n",
       " 'Storm': 1486,\n",
       " 'SwordsA': 1521,\n",
       " 'Feast': 569,\n",
       " 'Crows': 380,\n",
       " 'ES6': 480,\n",
       " 'Aprende': 122,\n",
       " 'en': 1770,\n",
       " 'Español': 516,\n",
       " 'Teoría': 1551,\n",
       " 'Práctica': 1245,\n",
       " 'Python': 1259,\n",
       " 'Spanish': 1452,\n",
       " 'Beasts': 175,\n",
       " 'Terror': 1552,\n",
       " 'American': 104,\n",
       " 'Family': 560,\n",
       " 'HitlerS': 736,\n",
       " 'Berlin': 192,\n",
       " 'Rules': 1346,\n",
       " 'Antidote': 115,\n",
       " 'Pieces': 1167,\n",
       " 'Construction': 345,\n",
       " 'Vehicles': 1666,\n",
       " 'Trucks': 1615,\n",
       " 'Bulldozer': 239,\n",
       " 'Cement': 271,\n",
       " 'Mixer': 1021,\n",
       " 'Dumper': 475,\n",
       " 'Forklift': 603,\n",
       " 'Excavator': 535,\n",
       " 'Road': 1333,\n",
       " 'Roller': 1341,\n",
       " 'Contractor': 348,\n",
       " 'Push': 1255,\n",
       " 'Go': 657,\n",
       " 'Sliding': 1431,\n",
       " 'Toys': 1598,\n",
       " '18m': 16,\n",
       " 'Nextjs': 1067,\n",
       " 'Crazy': 368,\n",
       " 'Rich': 1325,\n",
       " 'Asians': 129,\n",
       " 'Trilogy': 1612,\n",
       " 'Comparative': 324,\n",
       " 'Study': 1499,\n",
       " 'Visualization': 1676,\n",
       " 'Techniques': 1542,\n",
       " 'Guts': 686,\n",
       " 'Meltdown': 997,\n",
       " 'Diary': 438,\n",
       " 'Wimpy': 1702,\n",
       " 'Kid': 852,\n",
       " '13': 9,\n",
       " 'Blueprints': 209,\n",
       " 'Finance': 579,\n",
       " 'Building': 238,\n",
       " 'Trading': 1599,\n",
       " 'Strategies': 1489,\n",
       " 'RoboAdvisors': 1335,\n",
       " 'Using': 1656,\n",
       " 'Amateur': 99,\n",
       " 'Sookie': 1448,\n",
       " 'Stackhouse': 1460,\n",
       " 'Legend': 898,\n",
       " 'Zelda': 1732,\n",
       " 'Hyrule': 761,\n",
       " 'Historia': 734,\n",
       " 'Retooling': 1317,\n",
       " 'Poverty': 1196,\n",
       " 'Targeting': 1535,\n",
       " 'OutofSample': 1115,\n",
       " 'Validation': 1659,\n",
       " 'Long': 934,\n",
       " 'Haul': 710,\n",
       " 'Diagnostic': 437,\n",
       " 'Statistical': 1469,\n",
       " 'Manual': 967,\n",
       " 'Mental': 1001,\n",
       " 'Disorders': 450,\n",
       " '5Th': 42,\n",
       " 'Dsm5': 471,\n",
       " 'HandsOn': 701,\n",
       " 'C': 245,\n",
       " 'train': 1842,\n",
       " 'deploy': 1764,\n",
       " 'endtoend': 1771,\n",
       " 'machine': 1799,\n",
       " 'learning': 1798,\n",
       " 'deep': 1761,\n",
       " 'pipelines': 1813,\n",
       " 'Mathematics': 980,\n",
       " 'Technology': 1544,\n",
       " 'Alexander': 88,\n",
       " 'Hamilton': 696,\n",
       " 'Hbase': 712,\n",
       " 'Database': 405,\n",
       " 'Crawdads': 366,\n",
       " 'Sing': 1423,\n",
       " 'Programmer': 1234,\n",
       " 'Natural': 1051,\n",
       " 'Language': 875,\n",
       " 'Processing': 1229,\n",
       " 'Action': 64,\n",
       " 'Understanding': 1641,\n",
       " 'analyzing': 1743,\n",
       " 'generating': 1781,\n",
       " 'text': 1840,\n",
       " 'SQL': 1354,\n",
       " 'Generate': 634,\n",
       " 'Manipulate': 966,\n",
       " 'Retrieve': 1319,\n",
       " 'Happened': 702,\n",
       " 'National': 1050,\n",
       " 'Geographic': 638,\n",
       " '1111': 6,\n",
       " 'Answers': 114,\n",
       " 'Everything': 528,\n",
       " 'Dog': 458,\n",
       " 'Man': 960,\n",
       " 'Brawl': 226,\n",
       " 'Wild': 1700,\n",
       " 'Creator': 373,\n",
       " 'Captain': 257,\n",
       " 'Underpants': 1639,\n",
       " 'Beginners’': 186,\n",
       " 'Scratch': 1376,\n",
       " 'Fantastic': 561,\n",
       " 'Find': 581,\n",
       " 'Original': 1107,\n",
       " 'Screenplay': 1377,\n",
       " 'Business': 242,\n",
       " 'Combining': 315,\n",
       " 'Economics': 489,\n",
       " 'Optimize': 1103,\n",
       " 'Automate': 145,\n",
       " 'Accelerate': 57,\n",
       " 'Decisions': 415,\n",
       " 'Milk': 1009,\n",
       " 'Vine': 1670,\n",
       " 'Inspirational': 799,\n",
       " 'Quotes': 1271,\n",
       " 'Classic': 296,\n",
       " 'Vines': 1671,\n",
       " 'Dead': 410,\n",
       " 'Reckoning': 1292,\n",
       " 'StackhouseTrue': 1461,\n",
       " 'Blood': 207,\n",
       " '11': 4,\n",
       " 'Puppy': 1253,\n",
       " 'Paw': 1149,\n",
       " 'Patrol': 1145,\n",
       " 'Rust': 1352,\n",
       " 'Capital': 256,\n",
       " 'Twenty': 1624,\n",
       " 'Century': 273,\n",
       " 'Becoming': 180,\n",
       " 'Five': 590,\n",
       " 'Express': 544,\n",
       " 'Heartfelt': 719,\n",
       " 'Commitment': 320,\n",
       " 'Mate': 977,\n",
       " 'Interview': 811,\n",
       " 'Questions': 1265,\n",
       " 'Question': 1264,\n",
       " 'Bank': 164,\n",
       " 'Crack': 363,\n",
       " 'EmberJS': 502,\n",
       " 'Called': 248,\n",
       " 'Ove': 1116,\n",
       " 'Howard': 747,\n",
       " 'Stern': 1477,\n",
       " 'Comes': 316,\n",
       " 'Math': 978,\n",
       " 'Sagas': 1358,\n",
       " 'HandmaidS': 700,\n",
       " 'Tale': 1532,\n",
       " 'Breaking': 227,\n",
       " 'Dawn': 407,\n",
       " 'Happy': 704,\n",
       " 'Legacy': 897,\n",
       " 'Duck': 472,\n",
       " 'Commander': 318,\n",
       " 'Joyland': 837,\n",
       " 'Hard': 706,\n",
       " 'Case': 260,\n",
       " 'Crime': 376,\n",
       " 'Ship': 1412,\n",
       " 'Fools': 599,\n",
       " 'Selfish': 1387,\n",
       " 'Ruling': 1347,\n",
       " 'Class': 295,\n",
       " 'Bringing': 231,\n",
       " 'America': 102,\n",
       " 'Brink': 232,\n",
       " 'Revolution': 1323,\n",
       " 'Cravings': 365,\n",
       " 'Food': 596,\n",
       " 'Eat': 485,\n",
       " 'Lecture': 894,\n",
       " 'Mastering': 975,\n",
       " 'French': 612,\n",
       " 'Cooking': 353,\n",
       " 'Vol': 1677,\n",
       " 'Mikes': 1007,\n",
       " 'Peanuts': 1151,\n",
       " 'Linear': 924,\n",
       " 'Regression': 1300,\n",
       " 'Example': 532,\n",
       " 'intelligent': 1793,\n",
       " 'systems': 1838,\n",
       " 'using': 1846,\n",
       " 'TensorFlow': 1548,\n",
       " 'PyTorch': 1257,\n",
       " 'scikitlearn': 1826,\n",
       " '3rd': 32,\n",
       " 'Wrinkle': 1724,\n",
       " 'Quintet': 1269,\n",
       " 'Shred': 1417,\n",
       " 'Revolutionary': 1324,\n",
       " 'Diet': 439,\n",
       " 'Weeks': 1692,\n",
       " 'Inches': 781,\n",
       " 'Sizes': 1427,\n",
       " 'Biomedical': 203,\n",
       " 'Health': 715,\n",
       " 'Informatics': 792,\n",
       " 'Studies': 1498,\n",
       " '68': 45,\n",
       " 'Stolen': 1482,\n",
       " 'Memoir': 998,\n",
       " 'Lincoln': 923,\n",
       " 'Shocking': 1413,\n",
       " 'Assassination': 130,\n",
       " 'Programming': 1236,\n",
       " 'Crash': 364,\n",
       " 'Course': 361,\n",
       " 'Perfect': 1156,\n",
       " 'Skills': 1428,\n",
       " 'Coding': 306,\n",
       " 'Project': 1237,\n",
       " 'Even': 523,\n",
       " 'Absolute': 55,\n",
       " 'Beginner': 183,\n",
       " 'Learn': 889,\n",
       " 'Master': 973,\n",
       " 'Best': 193,\n",
       " 'Thug': 1573,\n",
       " 'Kitchen': 861,\n",
       " 'Official': 1089,\n",
       " 'Like': 922,\n",
       " 'Give': 652,\n",
       " 'Cookbooks': 351,\n",
       " 'Essentials': 518,\n",
       " 'Pattern': 1146,\n",
       " 'Recognition': 1293,\n",
       " 'Accessible': 58,\n",
       " 'Percy': 1155,\n",
       " 'Jackson': 823,\n",
       " 'Olympians': 1097,\n",
       " 'Paperback': 1132,\n",
       " 'Books': 214,\n",
       " 'Kings': 858,\n",
       " 'Swords': 1520,\n",
       " 'Dance': 396,\n",
       " 'Dragons': 467,\n",
       " 'Rigorous': 1328,\n",
       " 'Mathematical': 979,\n",
       " 'Analysis': 107,\n",
       " 'Models': 1028,\n",
       " 'Google': 670,\n",
       " 'Platform': 1177,\n",
       " 'Comprehensive': 328,\n",
       " 'Barefoot': 165,\n",
       " 'Contessa': 346,\n",
       " 'Fabulous': 552,\n",
       " 'Tips': 1582,\n",
       " 'George': 640,\n",
       " 'WashingtonS': 1684,\n",
       " 'Six': 1426,\n",
       " 'Spy': 1459,\n",
       " 'Ring': 1329,\n",
       " 'Saved': 1365,\n",
       " 'Applied': 119,\n",
       " 'Fitness': 589,\n",
       " 'Vision': 1673,\n",
       " 'Sensors': 1390,\n",
       " 'IoT': 820,\n",
       " '1': 0,\n",
       " 'Swift': 1518,\n",
       " 'Fundamental': 619,\n",
       " 'Theory': 1558,\n",
       " 'Development': 435,\n",
       " 'AIDriven': 53,\n",
       " 'Apps': 121,\n",
       " 'Awesome': 151,\n",
       " 'Projects': 1238,\n",
       " '20': 21,\n",
       " 'STEAM': 1355,\n",
       " 'Robots': 1339,\n",
       " 'Circuits': 293,\n",
       " 'Design': 428,\n",
       " 'Activities': 65,\n",
       " 'Humans': 750,\n",
       " 'New': 1064,\n",
       " 'York': 1729,\n",
       " 'Wash': 1683,\n",
       " 'Face': 553,\n",
       " 'Believing': 189,\n",
       " 'Lies': 911,\n",
       " 'Become': 178,\n",
       " 'Meant': 992,\n",
       " 'Network': 1059,\n",
       " 'Wonky': 1714,\n",
       " 'Donkey': 461,\n",
       " 'Looking': 935,\n",
       " 'Alaska': 85,\n",
       " 'Thief': 1559,\n",
       " 'Relieving': 1307,\n",
       " 'Dover': 465,\n",
       " 'Creative': 372,\n",
       " 'Nouveau': 1078,\n",
       " 'Animal': 112,\n",
       " 'AWS': 54,\n",
       " 'SageMaker': 1359,\n",
       " 'Apache': 116,\n",
       " 'Spark': 1453,\n",
       " 'Modeling': 1027,\n",
       " 'techniques': 1839,\n",
       " 'solve': 1837,\n",
       " 'RealWorld': 1288,\n",
       " 'problems': 1819,\n",
       " 'gain': 1780,\n",
       " 'valuable': 1847,\n",
       " 'insights': 1791,\n",
       " 'data': 1760,\n",
       " 'Quiet': 1268,\n",
       " 'Power': 1197,\n",
       " 'Introverts': 816,\n",
       " 'World': 1720,\n",
       " 'CanT': 254,\n",
       " 'Talking': 1533,\n",
       " 'Hour': 745,\n",
       " 'Body': 211,\n",
       " 'Uncommon': 1635,\n",
       " 'Rapid': 1282,\n",
       " 'Fat': 564,\n",
       " 'Loss': 939,\n",
       " 'Incredible': 784,\n",
       " 'Sex': 1403,\n",
       " 'Superhuman': 1508,\n",
       " 'Paris': 1135,\n",
       " 'Wife': 1699,\n",
       " 'Grokking': 681,\n",
       " 'Lost': 940,\n",
       " 'Symbol': 1523,\n",
       " 'Thousands': 1568,\n",
       " 'Simple': 1422,\n",
       " 'Swaps': 1517,\n",
       " 'Save': 1364,\n",
       " '10': 1,\n",
       " '30': 27,\n",
       " 'PoundsOr': 1194,\n",
       " 'Brave': 225,\n",
       " 'Pilgrims': 1168,\n",
       " 'Obama': 1086,\n",
       " 'Intimate': 813,\n",
       " 'Portrait': 1189,\n",
       " 'Red': 1294,\n",
       " 'Pyramid': 1258,\n",
       " 'Kane': 840,\n",
       " 'Chronicles': 291,\n",
       " '112263': 7,\n",
       " '10Day': 3,\n",
       " 'Green': 679,\n",
       " 'Smoothie': 1435,\n",
       " 'Cleanse': 300,\n",
       " 'Keras': 845,\n",
       " 'Kubernetes': 868,\n",
       " 'Journey': 835,\n",
       " 'Production': 1231,\n",
       " 'Prisoner': 1221,\n",
       " 'Azkaban': 152,\n",
       " 'Played': 1179,\n",
       " 'Scientists': 1373,\n",
       " 'Gentleman': 637,\n",
       " 'Moscow': 1036,\n",
       " 'Algebra': 89,\n",
       " 'Optimization': 1102,\n",
       " 'Textbook': 1555,\n",
       " 'David': 406,\n",
       " 'Goliath': 666,\n",
       " 'Underdogs': 1638,\n",
       " 'Misfits': 1017,\n",
       " 'Battling': 171,\n",
       " 'Giants': 644,\n",
       " 'Song': 1445,\n",
       " 'Ice': 764,\n",
       " 'Quantitative': 1261,\n",
       " 'Investment': 818,\n",
       " 'Moon': 1033,\n",
       " 'Implementing': 777,\n",
       " 'EndtoEnd': 506,\n",
       " 'RealTime': 1287,\n",
       " 'Pipelines': 1170,\n",
       " 'Ingest': 794,\n",
       " 'Mortal': 1035,\n",
       " 'Medicine': 994,\n",
       " 'Matters': 984,\n",
       " 'Fault': 566,\n",
       " 'Stars': 1462,\n",
       " 'Coded': 304,\n",
       " 'Mitigating': 1020,\n",
       " 'Bottlenecks': 218,\n",
       " 'Largescale': 878,\n",
       " 'Distributed': 451,\n",
       " 'Communications': 322,\n",
       " 'Information': 793,\n",
       " 'Liberty': 909,\n",
       " 'Tyranny': 1627,\n",
       " 'Conservative': 343,\n",
       " 'Manifesto': 965,\n",
       " 'Strengthsfinder': 1494,\n",
       " 'Forensics': 600,\n",
       " 'Law': 882,\n",
       " 'Enforcement': 507,\n",
       " 'Security': 1385,\n",
       " 'Publication': 1248,\n",
       " 'Psychological': 1246,\n",
       " 'Association': 133,\n",
       " '6Th': 46,\n",
       " 'Hillbilly': 733,\n",
       " 'Elegy': 499,\n",
       " 'Culture': 384,\n",
       " 'Crisis': 378,\n",
       " 'Top': 1592,\n",
       " 'Discovering': 447,\n",
       " 'Analytics': 108,\n",
       " 'Cases': 261,\n",
       " 'Overview': 1117,\n",
       " 'Fires': 585,\n",
       " 'Everywhere': 529,\n",
       " 'Governance': 671,\n",
       " 'Definitive': 421,\n",
       " 'People': 1154,\n",
       " 'Tools': 1591,\n",
       " 'Operationalize': 1101,\n",
       " 'Trustworthiness': 1619,\n",
       " 'Make': 956,\n",
       " 'Bed': 181,\n",
       " 'Things': 1560,\n",
       " 'Change': 279,\n",
       " 'LifeAnd': 913,\n",
       " 'Maybe': 985,\n",
       " 'Probabilistic': 1224,\n",
       " 'Perspective': 1161,\n",
       " 'Basic': 167,\n",
       " 'Concepts': 336,\n",
       " 'Intelligent': 805,\n",
       " 'Libraries': 910,\n",
       " 'Two': 1626,\n",
       " 'Kitties': 863,\n",
       " 'Magnolia': 955,\n",
       " 'Table': 1528,\n",
       " 'Collection': 309,\n",
       " 'Gathering': 630,\n",
       " 'PythonBased': 1260,\n",
       " 'Adults': 72,\n",
       " 'Featuring': 571,\n",
       " 'Henna': 725,\n",
       " 'Inspired': 800,\n",
       " 'Flowers': 595,\n",
       " 'Paisley…': 1129,\n",
       " 'Owls': 1119,\n",
       " 'Going': 661,\n",
       " 'Rogue': 1340,\n",
       " 'Financial': 580,\n",
       " 'Signal': 1418,\n",
       " 'IEEE': 763,\n",
       " 'KnockKnock': 865,\n",
       " 'Jokes': 832,\n",
       " 'BigData': 197,\n",
       " 'River': 1332,\n",
       " 'Publishers': 1249,\n",
       " 'Bump': 240,\n",
       " 'n': 1806,\n",
       " 'Airplane': 84,\n",
       " 'Toddler': 1585,\n",
       " 'Device': 436,\n",
       " 'Develop': 433,\n",
       " 'Beginning': 188,\n",
       " 'Counting': 358,\n",
       " 'ABCs': 51,\n",
       " 'Ideal': 767,\n",
       " 'Mueller': 1041,\n",
       " 'Report': 1308,\n",
       " 'Serious': 1394,\n",
       " 'Scientific': 1371,\n",
       " 'Absurd': 56,\n",
       " 'Hypothetical': 760,\n",
       " 'Making': 958,\n",
       " 'Sense': 1389,\n",
       " 'Women': 1710,\n",
       " 'God': 660,\n",
       " 'Unexpected': 1642,\n",
       " 'Path': 1140,\n",
       " 'Almost': 97,\n",
       " 'Steve': 1478,\n",
       " 'Jobs': 830,\n",
       " 'Expert': 541,\n",
       " 'predictive': 1817,\n",
       " 'modeling': 1804,\n",
       " 'Research': 1311,\n",
       " 'Industry': 785,\n",
       " 'Mockingjay': 1024,\n",
       " 'Giraffes': 648,\n",
       " 'Cognitive': 307,\n",
       " 'MIT': 946,\n",
       " 'Press': 1215,\n",
       " 'Night': 1068,\n",
       " 'fourth': 1778,\n",
       " 'School': 1368,\n",
       " 'Zone': 1734,\n",
       " 'Preschool': 1210,\n",
       " 'Workbook': 1717,\n",
       " 'Ages': 80,\n",
       " 'Colors': 313,\n",
       " 'Shapes': 1409,\n",
       " 'Numbers': 1081,\n",
       " 'Alphabet': 98,\n",
       " 'PreWriting': 1205,\n",
       " 'PreReading…': 1204,\n",
       " 'Sat': 1363,\n",
       " 'Exploring': 543,\n",
       " 'Zynq': 1736,\n",
       " 'MPSoC': 950,\n",
       " 'PYNQ': 1122,\n",
       " 'Cyber': 388,\n",
       " 'Includes': 782,\n",
       " 'Linux': 925,\n",
       " 'Hacking': 691,\n",
       " 'Kali': 839,\n",
       " 'Ethical': 521,\n",
       " 'Cybersecurity': 389,\n",
       " 'Fundamentals': 620,\n",
       " 'PlayerS': 1181,\n",
       " 'Handbook': 699,\n",
       " 'Dungeons': 476,\n",
       " 'Explore': 542,\n",
       " 'power': 1816,\n",
       " 'cloud': 1756,\n",
       " 'services': 1833,\n",
       " 'artificial': 1747,\n",
       " 'intelligence': 1792,\n",
       " 'ScikitLearn': 1374,\n",
       " 'Tensorflow': 1549,\n",
       " 'Manuscript': 968,\n",
       " 'Wright': 1723,\n",
       " 'Brothers': 234,\n",
       " 'Blue': 208,\n",
       " 'Truck': 1614,\n",
       " 'Divine': 453,\n",
       " 'Soul': 1450,\n",
       " 'Mind': 1011,\n",
       " 'Healing': 714,\n",
       " 'Transmission': 1605,\n",
       " 'System': 1525,\n",
       " 'Way': 1689,\n",
       " 'Heal': 713,\n",
       " 'Humanity': 749,\n",
       " 'Mother': 1037,\n",
       " 'Earth': 483,\n",
       " 'All…': 96,\n",
       " 'Train': 1602,\n",
       " 'Watchmen': 1686,\n",
       " 'Reasons': 1290,\n",
       " 'Team': 1540,\n",
       " 'Hackers': 690,\n",
       " 'Powerful': 1199,\n",
       " 'ShT': 1404,\n",
       " 'Dad': 394,\n",
       " 'Says': 1366,\n",
       " 'Grey': 680,\n",
       " 'Fifty': 578,\n",
       " 'Shades': 1406,\n",
       " 'Told': 1587,\n",
       " 'Christian': 290,\n",
       " 'Gone': 667,\n",
       " 'Introducing': 814,\n",
       " 'MLOps': 947,\n",
       " 'Scale': 1367,\n",
       " 'Enterprise': 512,\n",
       " 'Womens': 1711,\n",
       " 'Scientist': 1372,\n",
       " 'VNeck': 1657,\n",
       " 'Hyperbole': 758,\n",
       " 'Half': 693,\n",
       " 'Unfortunate': 1643,\n",
       " 'Situations': 1425,\n",
       " 'Flawed': 591,\n",
       " 'Coping': 356,\n",
       " 'Mechanisms': 993,\n",
       " 'Mayhem': 986,\n",
       " 'Matrix': 982,\n",
       " 'Concentration': 335,\n",
       " 'Inequalities': 786,\n",
       " 'Basics': 168,\n",
       " 'Understand': 1640,\n",
       " 'Salt': 1361,\n",
       " 'Acid': 62,\n",
       " 'Heat': 720,\n",
       " 'Elements': 500,\n",
       " 'Stories': 1485,\n",
       " 'Pop': 1187,\n",
       " 'N': 1047,\n",
       " 'Play': 1178,\n",
       " 'Center': 272,\n",
       " 'Xylophone': 1726,\n",
       " 'Station': 1468,\n",
       " 'Piano': 1164,\n",
       " 'Keys': 849,\n",
       " 'Colorful': 311,\n",
       " 'Balls': 163,\n",
       " 'Exciting': 537,\n",
       " 'Fun': 618,\n",
       " 'Batteries': 170,\n",
       " 'Required': 1310,\n",
       " '18': 15,\n",
       " 'Moving': 1040,\n",
       " 'Fear': 568,\n",
       " 'Trump': 1617,\n",
       " 'White': 1696,\n",
       " 'Olive': 1094,\n",
       " 'Kitteridge': 862,\n",
       " 'China': 288,\n",
       " 'Nutrition': 1084,\n",
       " 'Ever': 524,\n",
       " 'Conducted': 338,\n",
       " 'Startling': 1465,\n",
       " 'Implications': 778,\n",
       " 'Diet…': 440,\n",
       " 'Azure': 153,\n",
       " 'Perform': 1157,\n",
       " 'largescale': 1796,\n",
       " 'advanced': 1739,\n",
       " 'Microsoft': 1004,\n",
       " 'Delivering': 424,\n",
       " 'Happiness': 703,\n",
       " 'Profits': 1232,\n",
       " 'Passion': 1137,\n",
       " 'Purpose': 1254,\n",
       " 'Astronomy': 135,\n",
       " 'Survey': 1513,\n",
       " 'Updated': 1650,\n",
       " 'Princeton': 1218,\n",
       " 'Modern': 1029,\n",
       " 'Observational': 1087,\n",
       " 'Credit': 374,\n",
       " 'Risk': 1331,\n",
       " 'Powered': 1198,\n",
       " 'Idea': 766,\n",
       " 'Product': 1230,\n",
       " 'Engineering': 508,\n",
       " 'Racketeer': 1276,\n",
       " 'teytoy': 1841,\n",
       " 'Soft': 1438,\n",
       " 'Nontoxic': 1076,\n",
       " 'Fabric': 551,\n",
       " 'Cloth': 302,\n",
       " 'Early': 482,\n",
       " 'Education': 494,\n",
       " 'Activity': 66,\n",
       " 'Crinkle': 377,\n",
       " 'Infants': 787,\n",
       " 'Shower': 1416,\n",
       " 'Pack': 1124,\n",
       " 'Getaway': 643,\n",
       " 'Badass': 160,\n",
       " 'Doubting': 464,\n",
       " 'Greatness': 678,\n",
       " 'Start': 1463,\n",
       " 'Service': 1397,\n",
       " 'Serverless': 1396,\n",
       " 'Inference': 788,\n",
       " 'Prediction': 1206,\n",
       " 'Morgan': 1034,\n",
       " 'Kaufmann': 841,\n",
       " 'Confession': 339,\n",
       " 'Investor': 819,\n",
       " 'Step': 1473,\n",
       " 'Hive': 737,\n",
       " 'HiveMall': 738,\n",
       " 'Lambda': 873,\n",
       " 'Solr': 1439,\n",
       " 'Kibana': 850,\n",
       " 'ETL': 481,\n",
       " 'Concise': 337,\n",
       " 'handson': 1785,\n",
       " 'course': 1759,\n",
       " 'full': 1779,\n",
       " 'code': 1757,\n",
       " 'examples': 1773,\n",
       " 'excel': 1774,\n",
       " 'Difficult': 442,\n",
       " 'Riddles': 1326,\n",
       " 'Smart': 1434,\n",
       " '300': 28,\n",
       " 'Brain': 223,\n",
       " 'Teasers': 1541,\n",
       " 'Families': 559,\n",
       " 'Bioinformatics': 202,\n",
       " 'Churn': 292,\n",
       " 'Mobile': 1022,\n",
       " 'Telecommunications': 1547,\n",
       " 'Predictive': 1207,\n",
       " 'Worked': 1718,\n",
       " 'Examples': 533,\n",
       " 'Lord': 936,\n",
       " 'Fleas': 592,\n",
       " 'Hyperparameter': 759,\n",
       " 'optimization': 1809,\n",
       " 'neural': 1808,\n",
       " 'architecture': 1746,\n",
       " 'search': 1827,\n",
       " 'algorithm': 1740,\n",
       " 'selection': 1830,\n",
       " 'platforms': 1814,\n",
       " 'Human': 748,\n",
       " 'Benefits': 191,\n",
       " ...}"
      ]
     },
     "execution_count": 155,
     "metadata": {},
     "output_type": "execute_result"
    }
   ],
   "source": [
    "bow_transformer = CountVectorizer(analyzer=text_cleaning).fit(final_df[\"Name\"])\n",
    "\n",
    "bow_transformer.vocabulary_"
   ]
  },
  {
   "cell_type": "code",
   "execution_count": 156,
   "id": "02d6c675",
   "metadata": {},
   "outputs": [
    {
     "name": "stdout",
     "output_type": "stream",
     "text": [
      "  (0, 71)\t1\n",
      "  (0, 213)\t2\n",
      "  (0, 251)\t1\n",
      "  (0, 312)\t1\n",
      "  (0, 548)\t1\n",
      "  (0, 821)\t2\n",
      "  (0, 1393)\t1\n",
      "  (1, 5)\t1\n",
      "  (1, 8)\t1\n",
      "  (1, 43)\t1\n",
      "  (1, 158)\t2\n",
      "  (1, 281)\t1\n",
      "  (1, 359)\t1\n",
      "  (1, 545)\t1\n",
      "  (1, 621)\t1\n",
      "  (1, 697)\t2\n",
      "  (1, 853)\t2\n",
      "  (1, 890)\t1\n",
      "  (1, 921)\t2\n",
      "  (1, 1025)\t2\n",
      "  (1, 1032)\t1\n",
      "  (1, 1044)\t1\n",
      "  (1, 1093)\t1\n",
      "  (1, 1182)\t1\n",
      "  (1, 1414)\t1\n",
      "  :\t:\n",
      "  (620, 890)\t1\n",
      "  (620, 951)\t1\n",
      "  (620, 978)\t1\n",
      "  (620, 1369)\t1\n",
      "  (620, 1640)\t1\n",
      "  (621, 890)\t1\n",
      "  (621, 951)\t1\n",
      "  (621, 1259)\t1\n",
      "  (622, 770)\t1\n",
      "  (622, 1295)\t1\n",
      "  (622, 1313)\t1\n",
      "  (622, 1487)\t1\n",
      "  (622, 1514)\t1\n",
      "  (622, 1634)\t1\n",
      "  (622, 1681)\t1\n",
      "  (622, 1720)\t1\n",
      "  (623, 52)\t1\n",
      "  (623, 196)\t1\n",
      "  (623, 402)\t1\n",
      "  (623, 715)\t1\n",
      "  (623, 716)\t1\n",
      "  (623, 780)\t1\n",
      "  (623, 890)\t1\n",
      "  (623, 951)\t1\n",
      "  (623, 1113)\t1\n"
     ]
    }
   ],
   "source": [
    "# encode document\n",
    "title_bow = bow_transformer.transform(final_df[\"Name\"])\n",
    "\n",
    "print(title_bow)"
   ]
  },
  {
   "cell_type": "code",
   "execution_count": 157,
   "id": "f2bb9e9d",
   "metadata": {},
   "outputs": [
    {
     "name": "stdout",
     "output_type": "stream",
     "text": [
      "[[0 0 0 ... 0 0 0]\n",
      " [0 0 0 ... 2 0 2]\n",
      " [0 0 0 ... 0 0 0]\n",
      " ...\n",
      " [0 0 0 ... 0 0 0]\n",
      " [0 0 0 ... 0 0 0]\n",
      " [0 0 0 ... 0 0 0]]\n"
     ]
    },
    {
     "data": {
      "text/plain": [
       "(624, 1855)"
      ]
     },
     "execution_count": 157,
     "metadata": {},
     "output_type": "execute_result"
    }
   ],
   "source": [
    "X = title_bow.toarray()\n",
    "print(X)\n",
    "\n",
    "X.shape # 624 seperate words in our dataset and 1855 rows"
   ]
  },
  {
   "cell_type": "code",
   "execution_count": 158,
   "id": "714bf6cc",
   "metadata": {},
   "outputs": [
    {
     "name": "stdout",
     "output_type": "stream",
     "text": [
      "TfidfTransformer()\n",
      "  (0, 1393)\t0.20576310236163137\n",
      "  (0, 821)\t0.6987841077166791\n",
      "  (0, 548)\t0.3134848159841625\n",
      "  (0, 312)\t0.2485876928747754\n",
      "  (0, 251)\t0.34939205385833955\n",
      "  (0, 213)\t0.33191810200550953\n",
      "  (0, 71)\t0.27757757810998546\n",
      "  (1, 1854)\t0.2830278941530326\n",
      "  (1, 1852)\t0.32752375487077073\n",
      "  (1, 1597)\t0.27417420359965133\n",
      "  (1, 1447)\t0.16376187743538537\n",
      "  (1, 1414)\t0.14693196781706777\n",
      "  (1, 1182)\t0.16376187743538537\n",
      "  (1, 1093)\t0.16376187743538537\n",
      "  (1, 1044)\t0.15391701141814326\n",
      "  (1, 1032)\t0.14693196781706777\n",
      "  (1, 1025)\t0.32752375487077073\n",
      "  (1, 921)\t0.32752375487077073\n",
      "  (1, 890)\t0.04865869582045847\n",
      "  (1, 853)\t0.22360031373445619\n",
      "  (1, 697)\t0.3078340228362865\n",
      "  (1, 621)\t0.1415139470765163\n",
      "  (1, 545)\t0.16376187743538537\n",
      "  (1, 359)\t0.16376187743538537\n",
      "  (1, 281)\t0.16376187743538537\n",
      "  :\t:\n",
      "  (620, 214)\t0.28599682587693365\n",
      "  (620, 185)\t0.2717028073361186\n",
      "  (620, 118)\t0.2749721582317761\n",
      "  (620, 20)\t0.28209429367852884\n",
      "  (620, 0)\t0.27842842816930163\n",
      "  (621, 1259)\t0.7828709650651016\n",
      "  (621, 951)\t0.4476893209072197\n",
      "  (621, 890)\t0.43207328545475826\n",
      "  (622, 1720)\t0.29547951518017485\n",
      "  (622, 1681)\t0.33536347816311757\n",
      "  (622, 1634)\t0.38808720936571717\n",
      "  (622, 1514)\t0.36475658664054494\n",
      "  (622, 1487)\t0.3160027325573323\n",
      "  (622, 1313)\t0.36475658664054494\n",
      "  (622, 1295)\t0.38808720936571717\n",
      "  (622, 770)\t0.36475658664054494\n",
      "  (623, 1113)\t0.45563299255007567\n",
      "  (623, 951)\t0.14027560147373927\n",
      "  (623, 890)\t0.13538259048725823\n",
      "  (623, 780)\t0.45563299255007567\n",
      "  (623, 716)\t0.42824172276898487\n",
      "  (623, 715)\t0.3710023603313775\n",
      "  (623, 402)\t0.21261590267925534\n",
      "  (623, 196)\t0.3151559376243899\n",
      "  (623, 52)\t0.2850069305126477\n",
      "(624, 1855)\n"
     ]
    }
   ],
   "source": [
    "\n",
    "#TF-IDF ALgo -term frequency-inverse document frequencey to know the most significant words\n",
    "\n",
    "from sklearn.feature_extraction.text import TfidfTransformer\n",
    "tfidf_transformer = TfidfTransformer().fit(title_bow)\n",
    "print(tfidf_transformer)\n",
    "\n",
    "title_tfidf = tfidf_transformer.transform(title_bow)\n",
    "print(title_tfidf)   # got tfidf values for whole vocabulary \n",
    "print(title_tfidf.shape)"
   ]
  },
  {
   "cell_type": "code",
   "execution_count": 159,
   "id": "3f760c7c",
   "metadata": {},
   "outputs": [],
   "source": [
    "# importing Multinomial naive bayes \n",
    "from sklearn.naive_bayes import MultinomialNB\n",
    "model = MultinomialNB().fit(title_tfidf, final_df[\"Category\"])"
   ]
  },
  {
   "cell_type": "code",
   "execution_count": 160,
   "id": "a9243ca1",
   "metadata": {},
   "outputs": [
    {
     "name": "stdout",
     "output_type": "stream",
     "text": [
      "['Others' 'Machine Learning' 'Others' 'Others' 'Machine Learning' 'Others'\n",
      " 'Others' 'Machine Learning' 'Machine Learning' 'Others' 'Others' 'Others'\n",
      " 'Others' 'Others' 'Machine Learning' 'Others' 'Machine Learning'\n",
      " 'Machine Learning' 'Machine Learning' 'Machine Learning' 'Others'\n",
      " 'Others' 'Others' 'Others' 'Machine Learning' 'Others' 'Others'\n",
      " 'Machine Learning' 'Machine Learning' 'Others' 'Machine Learning'\n",
      " 'Others' 'Others' 'Machine Learning' 'Machine Learning' 'Others' 'Others'\n",
      " 'Others' 'Others' 'Machine Learning' 'Others' 'Machine Learning' 'Others'\n",
      " 'Machine Learning' 'Machine Learning' 'Others' 'Others' 'Others'\n",
      " 'Machine Learning' 'Machine Learning' 'Others' 'Others' 'Others'\n",
      " 'Machine Learning' 'Machine Learning' 'Others' 'Machine Learning'\n",
      " 'Others' 'Others' 'Machine Learning' 'Others' 'Others' 'Others'\n",
      " 'Machine Learning' 'Others' 'Others' 'Machine Learning'\n",
      " 'Machine Learning' 'Others' 'Machine Learning' 'Others'\n",
      " 'Machine Learning' 'Others' 'Machine Learning' 'Machine Learning'\n",
      " 'Others' 'Others' 'Others' 'Machine Learning' 'Others' 'Machine Learning'\n",
      " 'Others' 'Others' 'Others' 'Machine Learning' 'Others' 'Others' 'Others'\n",
      " 'Machine Learning' 'Machine Learning' 'Others' 'Others'\n",
      " 'Machine Learning' 'Others' 'Others' 'Others' 'Others' 'Others' 'Others'\n",
      " 'Machine Learning' 'Others' 'Others' 'Others' 'Machine Learning'\n",
      " 'Machine Learning' 'Others' 'Others' 'Machine Learning' 'Others' 'Others'\n",
      " 'Machine Learning' 'Others' 'Machine Learning' 'Others' 'Others'\n",
      " 'Machine Learning' 'Machine Learning' 'Others' 'Others'\n",
      " 'Machine Learning' 'Others' 'Machine Learning' 'Machine Learning'\n",
      " 'Others' 'Others' 'Machine Learning' 'Others' 'Others' 'Others' 'Others'\n",
      " 'Others' 'Machine Learning' 'Machine Learning' 'Others' 'Others' 'Others'\n",
      " 'Machine Learning' 'Machine Learning' 'Others' 'Machine Learning'\n",
      " 'Others' 'Machine Learning' 'Others' 'Others' 'Others' 'Others' 'Others'\n",
      " 'Machine Learning' 'Others' 'Others' 'Machine Learning' 'Others'\n",
      " 'Machine Learning' 'Others' 'Others' 'Machine Learning'\n",
      " 'Machine Learning' 'Others' 'Machine Learning' 'Machine Learning'\n",
      " 'Others' 'Others' 'Machine Learning' 'Others' 'Others' 'Machine Learning'\n",
      " 'Others' 'Others' 'Machine Learning' 'Machine Learning' 'Others'\n",
      " 'Machine Learning' 'Others' 'Machine Learning' 'Machine Learning'\n",
      " 'Others' 'Others' 'Machine Learning' 'Others' 'Others' 'Others'\n",
      " 'Machine Learning' 'Others' 'Machine Learning' 'Machine Learning'\n",
      " 'Others' 'Others' 'Machine Learning' 'Others' 'Others' 'Machine Learning'\n",
      " 'Machine Learning' 'Others' 'Others' 'Machine Learning' 'Others'\n",
      " 'Machine Learning' 'Others' 'Machine Learning' 'Others'\n",
      " 'Machine Learning' 'Machine Learning' 'Others' 'Others'\n",
      " 'Machine Learning' 'Machine Learning' 'Machine Learning' 'Others'\n",
      " 'Machine Learning' 'Others' 'Others' 'Machine Learning' 'Others' 'Others'\n",
      " 'Others' 'Machine Learning' 'Others' 'Others' 'Others' 'Others'\n",
      " 'Machine Learning' 'Machine Learning' 'Others' 'Machine Learning'\n",
      " 'Machine Learning' 'Others' 'Others' 'Machine Learning'\n",
      " 'Machine Learning' 'Others' 'Others' 'Others' 'Machine Learning' 'Others'\n",
      " 'Machine Learning' 'Machine Learning' 'Machine Learning'\n",
      " 'Machine Learning' 'Others' 'Machine Learning' 'Others' 'Others'\n",
      " 'Machine Learning' 'Machine Learning' 'Machine Learning'\n",
      " 'Machine Learning' 'Others' 'Machine Learning' 'Machine Learning'\n",
      " 'Others' 'Machine Learning' 'Machine Learning' 'Machine Learning'\n",
      " 'Machine Learning' 'Others' 'Machine Learning' 'Others'\n",
      " 'Machine Learning' 'Machine Learning' 'Others' 'Machine Learning'\n",
      " 'Others' 'Machine Learning' 'Machine Learning' 'Machine Learning'\n",
      " 'Others' 'Machine Learning' 'Machine Learning' 'Others' 'Others' 'Others'\n",
      " 'Others' 'Machine Learning' 'Others' 'Machine Learning'\n",
      " 'Machine Learning' 'Others' 'Machine Learning' 'Machine Learning'\n",
      " 'Others' 'Others' 'Machine Learning' 'Others' 'Others' 'Machine Learning'\n",
      " 'Others' 'Others' 'Others' 'Others' 'Others' 'Others' 'Machine Learning'\n",
      " 'Others' 'Others' 'Machine Learning' 'Machine Learning' 'Others'\n",
      " 'Machine Learning' 'Others' 'Others' 'Others' 'Others' 'Machine Learning'\n",
      " 'Others' 'Machine Learning' 'Others' 'Others' 'Machine Learning' 'Others'\n",
      " 'Machine Learning' 'Machine Learning' 'Machine Learning' 'Others'\n",
      " 'Machine Learning' 'Machine Learning' 'Others' 'Others'\n",
      " 'Machine Learning' 'Others' 'Others' 'Others' 'Machine Learning' 'Others'\n",
      " 'Others' 'Others' 'Machine Learning' 'Others' 'Others' 'Machine Learning'\n",
      " 'Others' 'Machine Learning' 'Others' 'Others' 'Machine Learning' 'Others'\n",
      " 'Others' 'Machine Learning' 'Machine Learning' 'Others'\n",
      " 'Machine Learning' 'Machine Learning' 'Others' 'Machine Learning'\n",
      " 'Others' 'Others' 'Others' 'Others' 'Machine Learning' 'Others'\n",
      " 'Machine Learning' 'Others' 'Machine Learning' 'Machine Learning'\n",
      " 'Others' 'Machine Learning' 'Others' 'Machine Learning' 'Others' 'Others'\n",
      " 'Others' 'Others' 'Others' 'Machine Learning' 'Machine Learning' 'Others'\n",
      " 'Others' 'Others' 'Others' 'Others' 'Others' 'Others' 'Machine Learning'\n",
      " 'Others' 'Others' 'Machine Learning' 'Others' 'Others' 'Machine Learning'\n",
      " 'Machine Learning' 'Others' 'Others' 'Machine Learning' 'Others'\n",
      " 'Machine Learning' 'Machine Learning' 'Others' 'Others' 'Others'\n",
      " 'Machine Learning' 'Others' 'Machine Learning' 'Machine Learning'\n",
      " 'Others' 'Machine Learning' 'Machine Learning' 'Others'\n",
      " 'Machine Learning' 'Machine Learning' 'Machine Learning'\n",
      " 'Machine Learning' 'Others' 'Others' 'Others' 'Others' 'Others'\n",
      " 'Machine Learning' 'Others' 'Others' 'Machine Learning'\n",
      " 'Machine Learning' 'Others' 'Machine Learning' 'Others'\n",
      " 'Machine Learning' 'Machine Learning' 'Others' 'Others' 'Others' 'Others'\n",
      " 'Machine Learning' 'Others' 'Others' 'Machine Learning' 'Others' 'Others'\n",
      " 'Machine Learning' 'Others' 'Others' 'Others' 'Machine Learning'\n",
      " 'Machine Learning' 'Machine Learning' 'Others' 'Others' 'Others' 'Others'\n",
      " 'Machine Learning' 'Machine Learning' 'Others' 'Others'\n",
      " 'Machine Learning' 'Machine Learning' 'Machine Learning' 'Others'\n",
      " 'Others' 'Others' 'Machine Learning' 'Machine Learning' 'Others'\n",
      " 'Machine Learning' 'Machine Learning' 'Machine Learning' 'Others'\n",
      " 'Others' 'Machine Learning' 'Machine Learning' 'Others'\n",
      " 'Machine Learning' 'Machine Learning' 'Machine Learning' 'Others'\n",
      " 'Others' 'Others' 'Others' 'Machine Learning' 'Others' 'Machine Learning'\n",
      " 'Machine Learning' 'Others' 'Others' 'Others' 'Others' 'Others'\n",
      " 'Machine Learning' 'Machine Learning' 'Machine Learning' 'Others'\n",
      " 'Machine Learning' 'Machine Learning' 'Machine Learning' 'Others'\n",
      " 'Others' 'Machine Learning' 'Machine Learning' 'Others' 'Others'\n",
      " 'Machine Learning' 'Machine Learning' 'Others' 'Others' 'Others'\n",
      " 'Machine Learning' 'Machine Learning' 'Machine Learning'\n",
      " 'Machine Learning' 'Machine Learning' 'Others' 'Machine Learning'\n",
      " 'Machine Learning' 'Machine Learning' 'Others' 'Others' 'Others'\n",
      " 'Machine Learning' 'Machine Learning' 'Others' 'Machine Learning'\n",
      " 'Others' 'Others' 'Others' 'Machine Learning' 'Machine Learning'\n",
      " 'Machine Learning' 'Machine Learning' 'Others' 'Machine Learning'\n",
      " 'Others' 'Machine Learning' 'Others' 'Others' 'Machine Learning'\n",
      " 'Machine Learning' 'Others' 'Others' 'Others' 'Machine Learning'\n",
      " 'Machine Learning' 'Others' 'Others' 'Others' 'Machine Learning' 'Others'\n",
      " 'Others' 'Machine Learning' 'Others' 'Machine Learning' 'Others' 'Others'\n",
      " 'Others' 'Machine Learning' 'Machine Learning' 'Others' 'Others' 'Others'\n",
      " 'Others' 'Others' 'Machine Learning' 'Others' 'Others' 'Others' 'Others'\n",
      " 'Machine Learning' 'Machine Learning' 'Others' 'Machine Learning'\n",
      " 'Machine Learning' 'Machine Learning' 'Machine Learning' 'Others'\n",
      " 'Others' 'Others' 'Machine Learning' 'Machine Learning' 'Others' 'Others'\n",
      " 'Others' 'Others' 'Others' 'Others' 'Machine Learning' 'Others' 'Others'\n",
      " 'Others' 'Others' 'Others' 'Others' 'Others' 'Others' 'Machine Learning'\n",
      " 'Others' 'Machine Learning' 'Others' 'Machine Learning' 'Others' 'Others'\n",
      " 'Machine Learning' 'Others' 'Machine Learning' 'Machine Learning'\n",
      " 'Others' 'Machine Learning' 'Others' 'Machine Learning' 'Others'\n",
      " 'Machine Learning' 'Machine Learning' 'Machine Learning' 'Others'\n",
      " 'Others' 'Others' 'Others' 'Machine Learning' 'Machine Learning'\n",
      " 'Machine Learning' 'Machine Learning' 'Machine Learning'\n",
      " 'Machine Learning' 'Others' 'Machine Learning' 'Others' 'Others' 'Others'\n",
      " 'Machine Learning' 'Machine Learning' 'Others' 'Others'\n",
      " 'Machine Learning' 'Others' 'Others' 'Others' 'Machine Learning'\n",
      " 'Machine Learning' 'Others' 'Machine Learning']\n"
     ]
    }
   ],
   "source": [
    "# giving the data to the model\n",
    "all_predictions = model.predict(title_tfidf)\n",
    "print(all_predictions)"
   ]
  },
  {
   "cell_type": "code",
   "execution_count": 161,
   "id": "6bb23d39",
   "metadata": {},
   "outputs": [
    {
     "data": {
      "text/plain": [
       "array([[273,   1],\n",
       "       [  0, 350]], dtype=int64)"
      ]
     },
     "execution_count": 161,
     "metadata": {},
     "output_type": "execute_result"
    }
   ],
   "source": [
    "# printing the confusion matrix of our prediction\n",
    "from sklearn.metrics import confusion_matrix\n",
    "\n",
    "confusion_matrix(final_df[\"Category\"], all_predictions)"
   ]
  },
  {
   "cell_type": "code",
   "execution_count": null,
   "id": "6dd25be1",
   "metadata": {},
   "outputs": [],
   "source": []
  }
 ],
 "metadata": {
  "kernelspec": {
   "display_name": "Python 3 (ipykernel)",
   "language": "python",
   "name": "python3"
  },
  "language_info": {
   "codemirror_mode": {
    "name": "ipython",
    "version": 3
   },
   "file_extension": ".py",
   "mimetype": "text/x-python",
   "name": "python",
   "nbconvert_exporter": "python",
   "pygments_lexer": "ipython3",
   "version": "3.9.12"
  }
 },
 "nbformat": 4,
 "nbformat_minor": 5
}
